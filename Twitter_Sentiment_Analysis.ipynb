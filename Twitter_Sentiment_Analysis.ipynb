{
  "metadata": {
    "kernelspec": {
      "language": "python",
      "display_name": "Python 3",
      "name": "python3"
    },
    "language_info": {
      "name": "python",
      "version": "3.10.13",
      "mimetype": "text/x-python",
      "codemirror_mode": {
        "name": "ipython",
        "version": 3
      },
      "pygments_lexer": "ipython3",
      "nbconvert_exporter": "python",
      "file_extension": ".py"
    },
    "kaggle": {
      "accelerator": "none",
      "dataSources": [
        {
          "sourceId": 2510329,
          "sourceType": "datasetVersion",
          "datasetId": 1520310
        }
      ],
      "dockerImageVersionId": 30746,
      "isInternetEnabled": false,
      "language": "python",
      "sourceType": "notebook",
      "isGpuEnabled": false
    },
    "colab": {
      "name": "Twitter Sentiment Analysis",
      "provenance": [],
      "include_colab_link": true
    }
  },
  "nbformat_minor": 0,
  "nbformat": 4,
  "cells": [
    {
      "cell_type": "markdown",
      "metadata": {
        "id": "view-in-github",
        "colab_type": "text"
      },
      "source": [
        "<a href=\"https://colab.research.google.com/github/Ox03bb/Sentiment_Analysis/blob/main/Twitter_Sentiment_Analysis.ipynb\" target=\"_parent\"><img src=\"https://colab.research.google.com/assets/colab-badge.svg\" alt=\"Open In Colab\"/></a>"
      ]
    },
    {
      "cell_type": "markdown",
      "source": [
        "# Settings"
      ],
      "metadata": {
        "id": "7YwyHk-4clLg"
      }
    },
    {
      "source": [
        "\n",
        "# IMPORTANT: RUN THIS CELL IN ORDER TO IMPORT YOUR KAGGLE DATA SOURCES\n",
        "# TO THE CORRECT LOCATION (/kaggle/input) IN YOUR NOTEBOOK,\n",
        "# THEN FEEL FREE TO DELETE THIS CELL.\n",
        "# NOTE: THIS NOTEBOOK ENVIRONMENT DIFFERS FROM KAGGLE'S PYTHON\n",
        "# ENVIRONMENT SO THERE MAY BE MISSING LIBRARIES USED BY YOUR\n",
        "# NOTEBOOK.\n",
        "\n",
        "import os\n",
        "import sys\n",
        "from tempfile import NamedTemporaryFile\n",
        "from urllib.request import urlopen\n",
        "from urllib.parse import unquote, urlparse\n",
        "from urllib.error import HTTPError\n",
        "from zipfile import ZipFile\n",
        "import tarfile\n",
        "import shutil\n",
        "\n",
        "CHUNK_SIZE = 40960\n",
        "DATA_SOURCE_MAPPING = 'twitter-entity-sentiment-analysis:https%3A%2F%2Fstorage.googleapis.com%2Fkaggle-data-sets%2F1520310%2F2510329%2Fbundle%2Farchive.zip%3FX-Goog-Algorithm%3DGOOG4-RSA-SHA256%26X-Goog-Credential%3Dgcp-kaggle-com%2540kaggle-161607.iam.gserviceaccount.com%252F20240726%252Fauto%252Fstorage%252Fgoog4_request%26X-Goog-Date%3D20240726T233822Z%26X-Goog-Expires%3D259200%26X-Goog-SignedHeaders%3Dhost%26X-Goog-Signature%3D699489cdd3385459f7884a6f3d8d58122355f8979ee9239d71252c4e2b09596b909e0bcb28261f5973f6ae96f2d075d347b8b19703751d5d74589a0c28f73aee3213b3da64c02bcf26f07de4d76b5283e32700bd540e0faff422d9926144881f396ebb4ad012f6f2b6c502ffabec078a80a2981e15e5b91a88c8b6ffd4ee02351428c885cd3ef9355bdb5db93bcc14c01fb5ba5a644211f533b5c7d09219f3b5c58c38df418ded5e57627a4daf78005b208aa9c2d07c99651ac465c71500164c4cfab1f105f73c700e3e77d5b4b9a28827a3f639b5de691805b535eab662729d910436344f5425cd2eef738648d7009ea1e582b5e196fbf16dabb257aa9b368c'\n",
        "\n",
        "KAGGLE_INPUT_PATH='/kaggle/input'\n",
        "KAGGLE_WORKING_PATH='/kaggle/working'\n",
        "KAGGLE_SYMLINK='kaggle'\n",
        "\n",
        "!umount /kaggle/input/ 2> /dev/null\n",
        "shutil.rmtree('/kaggle/input', ignore_errors=True)\n",
        "os.makedirs(KAGGLE_INPUT_PATH, 0o777, exist_ok=True)\n",
        "os.makedirs(KAGGLE_WORKING_PATH, 0o777, exist_ok=True)\n",
        "\n",
        "try:\n",
        "  os.symlink(KAGGLE_INPUT_PATH, os.path.join(\"..\", 'input'), target_is_directory=True)\n",
        "except FileExistsError:\n",
        "  pass\n",
        "try:\n",
        "  os.symlink(KAGGLE_WORKING_PATH, os.path.join(\"..\", 'working'), target_is_directory=True)\n",
        "except FileExistsError:\n",
        "  pass\n",
        "\n",
        "for data_source_mapping in DATA_SOURCE_MAPPING.split(','):\n",
        "    directory, download_url_encoded = data_source_mapping.split(':')\n",
        "    download_url = unquote(download_url_encoded)\n",
        "    filename = urlparse(download_url).path\n",
        "    destination_path = os.path.join(KAGGLE_INPUT_PATH, directory)\n",
        "    try:\n",
        "        with urlopen(download_url) as fileres, NamedTemporaryFile() as tfile:\n",
        "            total_length = fileres.headers['content-length']\n",
        "            print(f'Downloading {directory}, {total_length} bytes compressed')\n",
        "            dl = 0\n",
        "            data = fileres.read(CHUNK_SIZE)\n",
        "            while len(data) > 0:\n",
        "                dl += len(data)\n",
        "                tfile.write(data)\n",
        "                done = int(50 * dl / int(total_length))\n",
        "                sys.stdout.write(f\"\\r[{'=' * done}{' ' * (50-done)}] {dl} bytes downloaded\")\n",
        "                sys.stdout.flush()\n",
        "                data = fileres.read(CHUNK_SIZE)\n",
        "            if filename.endswith('.zip'):\n",
        "              with ZipFile(tfile) as zfile:\n",
        "                zfile.extractall(destination_path)\n",
        "            else:\n",
        "              with tarfile.open(tfile.name) as tarfile:\n",
        "                tarfile.extractall(destination_path)\n",
        "            print(f'\\nDownloaded and uncompressed: {directory}')\n",
        "    except HTTPError as e:\n",
        "        print(f'Failed to load (likely expired) {download_url} to path {destination_path}')\n",
        "        continue\n",
        "    except OSError as e:\n",
        "        print(f'Failed to load {download_url} to path {destination_path}')\n",
        "        continue\n",
        "\n",
        "print('Data source import complete.')\n"
      ],
      "metadata": {
        "id": "plOof7wnaQmY",
        "outputId": "f907f9a6-b51f-4983-a989-9d116e092571",
        "colab": {
          "base_uri": "https://localhost:8080/"
        }
      },
      "cell_type": "code",
      "outputs": [
        {
          "output_type": "stream",
          "name": "stdout",
          "text": [
            "Downloading twitter-entity-sentiment-analysis, 2090169 bytes compressed\n",
            "[==================================================] 2090169 bytes downloaded\n",
            "Downloaded and uncompressed: twitter-entity-sentiment-analysis\n",
            "Data source import complete.\n"
          ]
        }
      ],
      "execution_count": 1
    },
    {
      "cell_type": "code",
      "source": [
        "# This Python 3 environment comes with many helpful analytics libraries installed\n",
        "# It is defined by the kaggle/python Docker image: https://github.com/kaggle/docker-python\n",
        "# For example, here's several helpful packages to load\n",
        "\n",
        "import numpy as np # linear algebra\n",
        "import pandas as pd # data processing, CSV file I/O (e.g. pd.read_csv)\n",
        "\n",
        "# Input data files are available in the read-only \"../input/\" directory\n",
        "# For example, running this (by clicking run or pressing Shift+Enter) will list all files under the input directory\n",
        "\n",
        "import os\n",
        "for dirname, _, filenames in os.walk('/kaggle/input'):\n",
        "    for filename in filenames:\n",
        "        print(os.path.join(dirname, filename))\n",
        "\n",
        "# You can write up to 20GB to the current directory (/kaggle/working/) that gets preserved as output when you create a version using \"Save & Run All\"\n",
        "# You can also write temporary files to /kaggle/temp/, but they won't be saved outside of the current session"
      ],
      "metadata": {
        "_uuid": "8f2839f25d086af736a60e9eeb907d3b93b6e0e5",
        "_cell_guid": "b1076dfc-b9ad-4769-8c92-a6c4dae69d19",
        "execution": {
          "iopub.status.busy": "2024-07-26T23:37:32.954523Z",
          "iopub.execute_input": "2024-07-26T23:37:32.954967Z",
          "iopub.status.idle": "2024-07-26T23:37:34.272418Z",
          "shell.execute_reply.started": "2024-07-26T23:37:32.954933Z",
          "shell.execute_reply": "2024-07-26T23:37:34.270957Z"
        },
        "trusted": true,
        "id": "vyURQQeiaQmd",
        "outputId": "f1224b18-b2c1-4f50-9fa0-ad4a52d525ba",
        "colab": {
          "base_uri": "https://localhost:8080/"
        }
      },
      "execution_count": 5,
      "outputs": [
        {
          "output_type": "stream",
          "name": "stdout",
          "text": [
            "/kaggle/input/twitter-entity-sentiment-analysis/twitter_validation.csv\n",
            "/kaggle/input/twitter-entity-sentiment-analysis/twitter_training.csv\n"
          ]
        }
      ]
    },
    {
      "cell_type": "markdown",
      "source": [
        "# Packages"
      ],
      "metadata": {
        "id": "ylxVqRqAaQmf"
      }
    },
    {
      "cell_type": "code",
      "source": [
        "!python -m nltk.downloader all"
      ],
      "metadata": {
        "id": "koP8ibZrbKVw"
      },
      "execution_count": null,
      "outputs": []
    },
    {
      "cell_type": "code",
      "source": [
        "import nltk\n",
        "from nltk.tokenize import  word_tokenize\n",
        "from nltk.stem.porter import *\n",
        "from nltk.corpus import stopwords\n",
        "from nltk.stem import PorterStemmer,WordNetLemmatizer\n",
        "from nltk.corpus import wordnet\n",
        "from nltk import corpus\n",
        "from nltk.tag import pos_tag\n",
        "\n",
        "import spacy\n",
        "\n",
        "from sklearn.feature_extraction.text import CountVectorizer,TfidfVectorizer\n",
        "from sklearn.preprocessing import OneHotEncoder\n",
        "\n",
        "from IPython.display import clear_output\n",
        "\n",
        "import re\n"
      ],
      "metadata": {
        "execution": {
          "iopub.status.busy": "2024-07-26T23:37:41.226185Z",
          "iopub.execute_input": "2024-07-26T23:37:41.226622Z",
          "iopub.status.idle": "2024-07-26T23:37:48.16846Z",
          "shell.execute_reply.started": "2024-07-26T23:37:41.226585Z",
          "shell.execute_reply": "2024-07-26T23:37:48.167107Z"
        },
        "trusted": true,
        "id": "iuKyN726aQmh"
      },
      "execution_count": 3,
      "outputs": []
    },
    {
      "cell_type": "markdown",
      "source": [
        "# I. Data :"
      ],
      "metadata": {
        "id": "DQPofauRaQmi"
      }
    },
    {
      "cell_type": "markdown",
      "source": [
        "## I.01 Describe :"
      ],
      "metadata": {
        "id": "S2sEDTe4aQmi"
      }
    },
    {
      "cell_type": "code",
      "source": [
        "train_data = pd.read_csv(\"/kaggle/input/twitter-entity-sentiment-analysis/twitter_training.csv\", header=None, names=[\"Tweet ID\", \"entity\", \"sentiment\",'Tweet content'])\n",
        "val_data =  pd.read_csv(\"/kaggle/input/twitter-entity-sentiment-analysis/twitter_validation.csv\",header=None ,names=[\"Tweet ID\", \"entity\", \"sentiment\",'Tweet content'])\n",
        "\n",
        "\n",
        "train_data.head()"
      ],
      "metadata": {
        "execution": {
          "iopub.status.busy": "2024-07-26T20:05:40.476955Z",
          "iopub.execute_input": "2024-07-26T20:05:40.4775Z",
          "iopub.status.idle": "2024-07-26T20:05:40.84131Z",
          "shell.execute_reply.started": "2024-07-26T20:05:40.477469Z",
          "shell.execute_reply": "2024-07-26T20:05:40.840142Z"
        },
        "trusted": true,
        "id": "OZDYNp60aQmj",
        "outputId": "1c69630e-79fb-4bd6-c7a9-0ff1e78cb835",
        "colab": {
          "base_uri": "https://localhost:8080/",
          "height": 206
        }
      },
      "execution_count": 6,
      "outputs": [
        {
          "output_type": "execute_result",
          "data": {
            "text/plain": [
              "   Tweet ID       entity sentiment  \\\n",
              "0      2401  Borderlands  Positive   \n",
              "1      2401  Borderlands  Positive   \n",
              "2      2401  Borderlands  Positive   \n",
              "3      2401  Borderlands  Positive   \n",
              "4      2401  Borderlands  Positive   \n",
              "\n",
              "                                       Tweet content  \n",
              "0  im getting on borderlands and i will murder yo...  \n",
              "1  I am coming to the borders and I will kill you...  \n",
              "2  im getting on borderlands and i will kill you ...  \n",
              "3  im coming on borderlands and i will murder you...  \n",
              "4  im getting on borderlands 2 and i will murder ...  "
            ],
            "text/html": [
              "\n",
              "  <div id=\"df-758dbfdb-0f52-45b4-b2f6-c912731edad0\" class=\"colab-df-container\">\n",
              "    <div>\n",
              "<style scoped>\n",
              "    .dataframe tbody tr th:only-of-type {\n",
              "        vertical-align: middle;\n",
              "    }\n",
              "\n",
              "    .dataframe tbody tr th {\n",
              "        vertical-align: top;\n",
              "    }\n",
              "\n",
              "    .dataframe thead th {\n",
              "        text-align: right;\n",
              "    }\n",
              "</style>\n",
              "<table border=\"1\" class=\"dataframe\">\n",
              "  <thead>\n",
              "    <tr style=\"text-align: right;\">\n",
              "      <th></th>\n",
              "      <th>Tweet ID</th>\n",
              "      <th>entity</th>\n",
              "      <th>sentiment</th>\n",
              "      <th>Tweet content</th>\n",
              "    </tr>\n",
              "  </thead>\n",
              "  <tbody>\n",
              "    <tr>\n",
              "      <th>0</th>\n",
              "      <td>2401</td>\n",
              "      <td>Borderlands</td>\n",
              "      <td>Positive</td>\n",
              "      <td>im getting on borderlands and i will murder yo...</td>\n",
              "    </tr>\n",
              "    <tr>\n",
              "      <th>1</th>\n",
              "      <td>2401</td>\n",
              "      <td>Borderlands</td>\n",
              "      <td>Positive</td>\n",
              "      <td>I am coming to the borders and I will kill you...</td>\n",
              "    </tr>\n",
              "    <tr>\n",
              "      <th>2</th>\n",
              "      <td>2401</td>\n",
              "      <td>Borderlands</td>\n",
              "      <td>Positive</td>\n",
              "      <td>im getting on borderlands and i will kill you ...</td>\n",
              "    </tr>\n",
              "    <tr>\n",
              "      <th>3</th>\n",
              "      <td>2401</td>\n",
              "      <td>Borderlands</td>\n",
              "      <td>Positive</td>\n",
              "      <td>im coming on borderlands and i will murder you...</td>\n",
              "    </tr>\n",
              "    <tr>\n",
              "      <th>4</th>\n",
              "      <td>2401</td>\n",
              "      <td>Borderlands</td>\n",
              "      <td>Positive</td>\n",
              "      <td>im getting on borderlands 2 and i will murder ...</td>\n",
              "    </tr>\n",
              "  </tbody>\n",
              "</table>\n",
              "</div>\n",
              "    <div class=\"colab-df-buttons\">\n",
              "\n",
              "  <div class=\"colab-df-container\">\n",
              "    <button class=\"colab-df-convert\" onclick=\"convertToInteractive('df-758dbfdb-0f52-45b4-b2f6-c912731edad0')\"\n",
              "            title=\"Convert this dataframe to an interactive table.\"\n",
              "            style=\"display:none;\">\n",
              "\n",
              "  <svg xmlns=\"http://www.w3.org/2000/svg\" height=\"24px\" viewBox=\"0 -960 960 960\">\n",
              "    <path d=\"M120-120v-720h720v720H120Zm60-500h600v-160H180v160Zm220 220h160v-160H400v160Zm0 220h160v-160H400v160ZM180-400h160v-160H180v160Zm440 0h160v-160H620v160ZM180-180h160v-160H180v160Zm440 0h160v-160H620v160Z\"/>\n",
              "  </svg>\n",
              "    </button>\n",
              "\n",
              "  <style>\n",
              "    .colab-df-container {\n",
              "      display:flex;\n",
              "      gap: 12px;\n",
              "    }\n",
              "\n",
              "    .colab-df-convert {\n",
              "      background-color: #E8F0FE;\n",
              "      border: none;\n",
              "      border-radius: 50%;\n",
              "      cursor: pointer;\n",
              "      display: none;\n",
              "      fill: #1967D2;\n",
              "      height: 32px;\n",
              "      padding: 0 0 0 0;\n",
              "      width: 32px;\n",
              "    }\n",
              "\n",
              "    .colab-df-convert:hover {\n",
              "      background-color: #E2EBFA;\n",
              "      box-shadow: 0px 1px 2px rgba(60, 64, 67, 0.3), 0px 1px 3px 1px rgba(60, 64, 67, 0.15);\n",
              "      fill: #174EA6;\n",
              "    }\n",
              "\n",
              "    .colab-df-buttons div {\n",
              "      margin-bottom: 4px;\n",
              "    }\n",
              "\n",
              "    [theme=dark] .colab-df-convert {\n",
              "      background-color: #3B4455;\n",
              "      fill: #D2E3FC;\n",
              "    }\n",
              "\n",
              "    [theme=dark] .colab-df-convert:hover {\n",
              "      background-color: #434B5C;\n",
              "      box-shadow: 0px 1px 3px 1px rgba(0, 0, 0, 0.15);\n",
              "      filter: drop-shadow(0px 1px 2px rgba(0, 0, 0, 0.3));\n",
              "      fill: #FFFFFF;\n",
              "    }\n",
              "  </style>\n",
              "\n",
              "    <script>\n",
              "      const buttonEl =\n",
              "        document.querySelector('#df-758dbfdb-0f52-45b4-b2f6-c912731edad0 button.colab-df-convert');\n",
              "      buttonEl.style.display =\n",
              "        google.colab.kernel.accessAllowed ? 'block' : 'none';\n",
              "\n",
              "      async function convertToInteractive(key) {\n",
              "        const element = document.querySelector('#df-758dbfdb-0f52-45b4-b2f6-c912731edad0');\n",
              "        const dataTable =\n",
              "          await google.colab.kernel.invokeFunction('convertToInteractive',\n",
              "                                                    [key], {});\n",
              "        if (!dataTable) return;\n",
              "\n",
              "        const docLinkHtml = 'Like what you see? Visit the ' +\n",
              "          '<a target=\"_blank\" href=https://colab.research.google.com/notebooks/data_table.ipynb>data table notebook</a>'\n",
              "          + ' to learn more about interactive tables.';\n",
              "        element.innerHTML = '';\n",
              "        dataTable['output_type'] = 'display_data';\n",
              "        await google.colab.output.renderOutput(dataTable, element);\n",
              "        const docLink = document.createElement('div');\n",
              "        docLink.innerHTML = docLinkHtml;\n",
              "        element.appendChild(docLink);\n",
              "      }\n",
              "    </script>\n",
              "  </div>\n",
              "\n",
              "\n",
              "<div id=\"df-7362021f-df37-43ca-98c7-a3f0adecf8a2\">\n",
              "  <button class=\"colab-df-quickchart\" onclick=\"quickchart('df-7362021f-df37-43ca-98c7-a3f0adecf8a2')\"\n",
              "            title=\"Suggest charts\"\n",
              "            style=\"display:none;\">\n",
              "\n",
              "<svg xmlns=\"http://www.w3.org/2000/svg\" height=\"24px\"viewBox=\"0 0 24 24\"\n",
              "     width=\"24px\">\n",
              "    <g>\n",
              "        <path d=\"M19 3H5c-1.1 0-2 .9-2 2v14c0 1.1.9 2 2 2h14c1.1 0 2-.9 2-2V5c0-1.1-.9-2-2-2zM9 17H7v-7h2v7zm4 0h-2V7h2v10zm4 0h-2v-4h2v4z\"/>\n",
              "    </g>\n",
              "</svg>\n",
              "  </button>\n",
              "\n",
              "<style>\n",
              "  .colab-df-quickchart {\n",
              "      --bg-color: #E8F0FE;\n",
              "      --fill-color: #1967D2;\n",
              "      --hover-bg-color: #E2EBFA;\n",
              "      --hover-fill-color: #174EA6;\n",
              "      --disabled-fill-color: #AAA;\n",
              "      --disabled-bg-color: #DDD;\n",
              "  }\n",
              "\n",
              "  [theme=dark] .colab-df-quickchart {\n",
              "      --bg-color: #3B4455;\n",
              "      --fill-color: #D2E3FC;\n",
              "      --hover-bg-color: #434B5C;\n",
              "      --hover-fill-color: #FFFFFF;\n",
              "      --disabled-bg-color: #3B4455;\n",
              "      --disabled-fill-color: #666;\n",
              "  }\n",
              "\n",
              "  .colab-df-quickchart {\n",
              "    background-color: var(--bg-color);\n",
              "    border: none;\n",
              "    border-radius: 50%;\n",
              "    cursor: pointer;\n",
              "    display: none;\n",
              "    fill: var(--fill-color);\n",
              "    height: 32px;\n",
              "    padding: 0;\n",
              "    width: 32px;\n",
              "  }\n",
              "\n",
              "  .colab-df-quickchart:hover {\n",
              "    background-color: var(--hover-bg-color);\n",
              "    box-shadow: 0 1px 2px rgba(60, 64, 67, 0.3), 0 1px 3px 1px rgba(60, 64, 67, 0.15);\n",
              "    fill: var(--button-hover-fill-color);\n",
              "  }\n",
              "\n",
              "  .colab-df-quickchart-complete:disabled,\n",
              "  .colab-df-quickchart-complete:disabled:hover {\n",
              "    background-color: var(--disabled-bg-color);\n",
              "    fill: var(--disabled-fill-color);\n",
              "    box-shadow: none;\n",
              "  }\n",
              "\n",
              "  .colab-df-spinner {\n",
              "    border: 2px solid var(--fill-color);\n",
              "    border-color: transparent;\n",
              "    border-bottom-color: var(--fill-color);\n",
              "    animation:\n",
              "      spin 1s steps(1) infinite;\n",
              "  }\n",
              "\n",
              "  @keyframes spin {\n",
              "    0% {\n",
              "      border-color: transparent;\n",
              "      border-bottom-color: var(--fill-color);\n",
              "      border-left-color: var(--fill-color);\n",
              "    }\n",
              "    20% {\n",
              "      border-color: transparent;\n",
              "      border-left-color: var(--fill-color);\n",
              "      border-top-color: var(--fill-color);\n",
              "    }\n",
              "    30% {\n",
              "      border-color: transparent;\n",
              "      border-left-color: var(--fill-color);\n",
              "      border-top-color: var(--fill-color);\n",
              "      border-right-color: var(--fill-color);\n",
              "    }\n",
              "    40% {\n",
              "      border-color: transparent;\n",
              "      border-right-color: var(--fill-color);\n",
              "      border-top-color: var(--fill-color);\n",
              "    }\n",
              "    60% {\n",
              "      border-color: transparent;\n",
              "      border-right-color: var(--fill-color);\n",
              "    }\n",
              "    80% {\n",
              "      border-color: transparent;\n",
              "      border-right-color: var(--fill-color);\n",
              "      border-bottom-color: var(--fill-color);\n",
              "    }\n",
              "    90% {\n",
              "      border-color: transparent;\n",
              "      border-bottom-color: var(--fill-color);\n",
              "    }\n",
              "  }\n",
              "</style>\n",
              "\n",
              "  <script>\n",
              "    async function quickchart(key) {\n",
              "      const quickchartButtonEl =\n",
              "        document.querySelector('#' + key + ' button');\n",
              "      quickchartButtonEl.disabled = true;  // To prevent multiple clicks.\n",
              "      quickchartButtonEl.classList.add('colab-df-spinner');\n",
              "      try {\n",
              "        const charts = await google.colab.kernel.invokeFunction(\n",
              "            'suggestCharts', [key], {});\n",
              "      } catch (error) {\n",
              "        console.error('Error during call to suggestCharts:', error);\n",
              "      }\n",
              "      quickchartButtonEl.classList.remove('colab-df-spinner');\n",
              "      quickchartButtonEl.classList.add('colab-df-quickchart-complete');\n",
              "    }\n",
              "    (() => {\n",
              "      let quickchartButtonEl =\n",
              "        document.querySelector('#df-7362021f-df37-43ca-98c7-a3f0adecf8a2 button');\n",
              "      quickchartButtonEl.style.display =\n",
              "        google.colab.kernel.accessAllowed ? 'block' : 'none';\n",
              "    })();\n",
              "  </script>\n",
              "</div>\n",
              "\n",
              "    </div>\n",
              "  </div>\n"
            ],
            "application/vnd.google.colaboratory.intrinsic+json": {
              "type": "dataframe",
              "variable_name": "train_data",
              "summary": "{\n  \"name\": \"train_data\",\n  \"rows\": 74682,\n  \"fields\": [\n    {\n      \"column\": \"Tweet ID\",\n      \"properties\": {\n        \"dtype\": \"number\",\n        \"std\": 3740,\n        \"min\": 1,\n        \"max\": 13200,\n        \"num_unique_values\": 12447,\n        \"samples\": [\n          1616,\n          2660,\n          2335\n        ],\n        \"semantic_type\": \"\",\n        \"description\": \"\"\n      }\n    },\n    {\n      \"column\": \"entity\",\n      \"properties\": {\n        \"dtype\": \"category\",\n        \"num_unique_values\": 32,\n        \"samples\": [\n          \"Cyberpunk2077\",\n          \"Microsoft\",\n          \"TomClancysRainbowSix\"\n        ],\n        \"semantic_type\": \"\",\n        \"description\": \"\"\n      }\n    },\n    {\n      \"column\": \"sentiment\",\n      \"properties\": {\n        \"dtype\": \"category\",\n        \"num_unique_values\": 4,\n        \"samples\": [\n          \"Neutral\",\n          \"Irrelevant\",\n          \"Positive\"\n        ],\n        \"semantic_type\": \"\",\n        \"description\": \"\"\n      }\n    },\n    {\n      \"column\": \"Tweet content\",\n      \"properties\": {\n        \"dtype\": \"string\",\n        \"num_unique_values\": 69491,\n        \"samples\": [\n          \"Thanks to @ Kain0025 for the raid. Thanks to @ gamingstreams and @ velonese002 for the bitts! And thanks to @ ColTrysTohete for hanging out and hanging out!. I hope to continue streaming regularly.. watch the w / @ Cohtstreams _ coming live!\",\n          \"How not to get bored about every damn thing in life.\",\n          \"The Best Way to Protect the Samsung Galaxy Note10+ buff.ly/2zkjIhU <unk> ^\"\n        ],\n        \"semantic_type\": \"\",\n        \"description\": \"\"\n      }\n    }\n  ]\n}"
            }
          },
          "metadata": {},
          "execution_count": 6
        }
      ]
    },
    {
      "cell_type": "code",
      "source": [
        "train_data.info()"
      ],
      "metadata": {
        "execution": {
          "iopub.status.busy": "2024-07-26T20:05:40.842595Z",
          "iopub.execute_input": "2024-07-26T20:05:40.842921Z",
          "iopub.status.idle": "2024-07-26T20:05:40.879767Z",
          "shell.execute_reply.started": "2024-07-26T20:05:40.842894Z",
          "shell.execute_reply": "2024-07-26T20:05:40.878587Z"
        },
        "trusted": true,
        "id": "0QA3LdYtaQmj",
        "outputId": "7b406aa9-e12e-40f7-b5a0-ef998f5b7543",
        "colab": {
          "base_uri": "https://localhost:8080/"
        }
      },
      "execution_count": 7,
      "outputs": [
        {
          "output_type": "stream",
          "name": "stdout",
          "text": [
            "<class 'pandas.core.frame.DataFrame'>\n",
            "RangeIndex: 74682 entries, 0 to 74681\n",
            "Data columns (total 4 columns):\n",
            " #   Column         Non-Null Count  Dtype \n",
            "---  ------         --------------  ----- \n",
            " 0   Tweet ID       74682 non-null  int64 \n",
            " 1   entity         74682 non-null  object\n",
            " 2   sentiment      74682 non-null  object\n",
            " 3   Tweet content  73996 non-null  object\n",
            "dtypes: int64(1), object(3)\n",
            "memory usage: 2.3+ MB\n"
          ]
        }
      ]
    },
    {
      "cell_type": "code",
      "source": [
        "train_data.describe(include=['O']).T"
      ],
      "metadata": {
        "execution": {
          "iopub.status.busy": "2024-07-26T20:05:40.882035Z",
          "iopub.execute_input": "2024-07-26T20:05:40.882405Z",
          "iopub.status.idle": "2024-07-26T20:05:40.992163Z",
          "shell.execute_reply.started": "2024-07-26T20:05:40.882376Z",
          "shell.execute_reply": "2024-07-26T20:05:40.991172Z"
        },
        "trusted": true,
        "id": "9RzVsCCVaQmk",
        "outputId": "15dbfdfc-07dd-45fd-e582-4166093c626a",
        "colab": {
          "base_uri": "https://localhost:8080/",
          "height": 144
        }
      },
      "execution_count": 8,
      "outputs": [
        {
          "output_type": "execute_result",
          "data": {
            "text/plain": [
              "               count unique  \\\n",
              "entity         74682     32   \n",
              "sentiment      74682      4   \n",
              "Tweet content  73996  69491   \n",
              "\n",
              "                                                             top   freq  \n",
              "entity                                      TomClancysRainbowSix   2400  \n",
              "sentiment                                               Negative  22542  \n",
              "Tweet content  At the same time, despite the fact that there ...    172  "
            ],
            "text/html": [
              "\n",
              "  <div id=\"df-03ce1b20-7111-42f3-886d-c093e0cf3d58\" class=\"colab-df-container\">\n",
              "    <div>\n",
              "<style scoped>\n",
              "    .dataframe tbody tr th:only-of-type {\n",
              "        vertical-align: middle;\n",
              "    }\n",
              "\n",
              "    .dataframe tbody tr th {\n",
              "        vertical-align: top;\n",
              "    }\n",
              "\n",
              "    .dataframe thead th {\n",
              "        text-align: right;\n",
              "    }\n",
              "</style>\n",
              "<table border=\"1\" class=\"dataframe\">\n",
              "  <thead>\n",
              "    <tr style=\"text-align: right;\">\n",
              "      <th></th>\n",
              "      <th>count</th>\n",
              "      <th>unique</th>\n",
              "      <th>top</th>\n",
              "      <th>freq</th>\n",
              "    </tr>\n",
              "  </thead>\n",
              "  <tbody>\n",
              "    <tr>\n",
              "      <th>entity</th>\n",
              "      <td>74682</td>\n",
              "      <td>32</td>\n",
              "      <td>TomClancysRainbowSix</td>\n",
              "      <td>2400</td>\n",
              "    </tr>\n",
              "    <tr>\n",
              "      <th>sentiment</th>\n",
              "      <td>74682</td>\n",
              "      <td>4</td>\n",
              "      <td>Negative</td>\n",
              "      <td>22542</td>\n",
              "    </tr>\n",
              "    <tr>\n",
              "      <th>Tweet content</th>\n",
              "      <td>73996</td>\n",
              "      <td>69491</td>\n",
              "      <td>At the same time, despite the fact that there ...</td>\n",
              "      <td>172</td>\n",
              "    </tr>\n",
              "  </tbody>\n",
              "</table>\n",
              "</div>\n",
              "    <div class=\"colab-df-buttons\">\n",
              "\n",
              "  <div class=\"colab-df-container\">\n",
              "    <button class=\"colab-df-convert\" onclick=\"convertToInteractive('df-03ce1b20-7111-42f3-886d-c093e0cf3d58')\"\n",
              "            title=\"Convert this dataframe to an interactive table.\"\n",
              "            style=\"display:none;\">\n",
              "\n",
              "  <svg xmlns=\"http://www.w3.org/2000/svg\" height=\"24px\" viewBox=\"0 -960 960 960\">\n",
              "    <path d=\"M120-120v-720h720v720H120Zm60-500h600v-160H180v160Zm220 220h160v-160H400v160Zm0 220h160v-160H400v160ZM180-400h160v-160H180v160Zm440 0h160v-160H620v160ZM180-180h160v-160H180v160Zm440 0h160v-160H620v160Z\"/>\n",
              "  </svg>\n",
              "    </button>\n",
              "\n",
              "  <style>\n",
              "    .colab-df-container {\n",
              "      display:flex;\n",
              "      gap: 12px;\n",
              "    }\n",
              "\n",
              "    .colab-df-convert {\n",
              "      background-color: #E8F0FE;\n",
              "      border: none;\n",
              "      border-radius: 50%;\n",
              "      cursor: pointer;\n",
              "      display: none;\n",
              "      fill: #1967D2;\n",
              "      height: 32px;\n",
              "      padding: 0 0 0 0;\n",
              "      width: 32px;\n",
              "    }\n",
              "\n",
              "    .colab-df-convert:hover {\n",
              "      background-color: #E2EBFA;\n",
              "      box-shadow: 0px 1px 2px rgba(60, 64, 67, 0.3), 0px 1px 3px 1px rgba(60, 64, 67, 0.15);\n",
              "      fill: #174EA6;\n",
              "    }\n",
              "\n",
              "    .colab-df-buttons div {\n",
              "      margin-bottom: 4px;\n",
              "    }\n",
              "\n",
              "    [theme=dark] .colab-df-convert {\n",
              "      background-color: #3B4455;\n",
              "      fill: #D2E3FC;\n",
              "    }\n",
              "\n",
              "    [theme=dark] .colab-df-convert:hover {\n",
              "      background-color: #434B5C;\n",
              "      box-shadow: 0px 1px 3px 1px rgba(0, 0, 0, 0.15);\n",
              "      filter: drop-shadow(0px 1px 2px rgba(0, 0, 0, 0.3));\n",
              "      fill: #FFFFFF;\n",
              "    }\n",
              "  </style>\n",
              "\n",
              "    <script>\n",
              "      const buttonEl =\n",
              "        document.querySelector('#df-03ce1b20-7111-42f3-886d-c093e0cf3d58 button.colab-df-convert');\n",
              "      buttonEl.style.display =\n",
              "        google.colab.kernel.accessAllowed ? 'block' : 'none';\n",
              "\n",
              "      async function convertToInteractive(key) {\n",
              "        const element = document.querySelector('#df-03ce1b20-7111-42f3-886d-c093e0cf3d58');\n",
              "        const dataTable =\n",
              "          await google.colab.kernel.invokeFunction('convertToInteractive',\n",
              "                                                    [key], {});\n",
              "        if (!dataTable) return;\n",
              "\n",
              "        const docLinkHtml = 'Like what you see? Visit the ' +\n",
              "          '<a target=\"_blank\" href=https://colab.research.google.com/notebooks/data_table.ipynb>data table notebook</a>'\n",
              "          + ' to learn more about interactive tables.';\n",
              "        element.innerHTML = '';\n",
              "        dataTable['output_type'] = 'display_data';\n",
              "        await google.colab.output.renderOutput(dataTable, element);\n",
              "        const docLink = document.createElement('div');\n",
              "        docLink.innerHTML = docLinkHtml;\n",
              "        element.appendChild(docLink);\n",
              "      }\n",
              "    </script>\n",
              "  </div>\n",
              "\n",
              "\n",
              "<div id=\"df-142215a1-f967-42a7-9321-c6b2e7d25367\">\n",
              "  <button class=\"colab-df-quickchart\" onclick=\"quickchart('df-142215a1-f967-42a7-9321-c6b2e7d25367')\"\n",
              "            title=\"Suggest charts\"\n",
              "            style=\"display:none;\">\n",
              "\n",
              "<svg xmlns=\"http://www.w3.org/2000/svg\" height=\"24px\"viewBox=\"0 0 24 24\"\n",
              "     width=\"24px\">\n",
              "    <g>\n",
              "        <path d=\"M19 3H5c-1.1 0-2 .9-2 2v14c0 1.1.9 2 2 2h14c1.1 0 2-.9 2-2V5c0-1.1-.9-2-2-2zM9 17H7v-7h2v7zm4 0h-2V7h2v10zm4 0h-2v-4h2v4z\"/>\n",
              "    </g>\n",
              "</svg>\n",
              "  </button>\n",
              "\n",
              "<style>\n",
              "  .colab-df-quickchart {\n",
              "      --bg-color: #E8F0FE;\n",
              "      --fill-color: #1967D2;\n",
              "      --hover-bg-color: #E2EBFA;\n",
              "      --hover-fill-color: #174EA6;\n",
              "      --disabled-fill-color: #AAA;\n",
              "      --disabled-bg-color: #DDD;\n",
              "  }\n",
              "\n",
              "  [theme=dark] .colab-df-quickchart {\n",
              "      --bg-color: #3B4455;\n",
              "      --fill-color: #D2E3FC;\n",
              "      --hover-bg-color: #434B5C;\n",
              "      --hover-fill-color: #FFFFFF;\n",
              "      --disabled-bg-color: #3B4455;\n",
              "      --disabled-fill-color: #666;\n",
              "  }\n",
              "\n",
              "  .colab-df-quickchart {\n",
              "    background-color: var(--bg-color);\n",
              "    border: none;\n",
              "    border-radius: 50%;\n",
              "    cursor: pointer;\n",
              "    display: none;\n",
              "    fill: var(--fill-color);\n",
              "    height: 32px;\n",
              "    padding: 0;\n",
              "    width: 32px;\n",
              "  }\n",
              "\n",
              "  .colab-df-quickchart:hover {\n",
              "    background-color: var(--hover-bg-color);\n",
              "    box-shadow: 0 1px 2px rgba(60, 64, 67, 0.3), 0 1px 3px 1px rgba(60, 64, 67, 0.15);\n",
              "    fill: var(--button-hover-fill-color);\n",
              "  }\n",
              "\n",
              "  .colab-df-quickchart-complete:disabled,\n",
              "  .colab-df-quickchart-complete:disabled:hover {\n",
              "    background-color: var(--disabled-bg-color);\n",
              "    fill: var(--disabled-fill-color);\n",
              "    box-shadow: none;\n",
              "  }\n",
              "\n",
              "  .colab-df-spinner {\n",
              "    border: 2px solid var(--fill-color);\n",
              "    border-color: transparent;\n",
              "    border-bottom-color: var(--fill-color);\n",
              "    animation:\n",
              "      spin 1s steps(1) infinite;\n",
              "  }\n",
              "\n",
              "  @keyframes spin {\n",
              "    0% {\n",
              "      border-color: transparent;\n",
              "      border-bottom-color: var(--fill-color);\n",
              "      border-left-color: var(--fill-color);\n",
              "    }\n",
              "    20% {\n",
              "      border-color: transparent;\n",
              "      border-left-color: var(--fill-color);\n",
              "      border-top-color: var(--fill-color);\n",
              "    }\n",
              "    30% {\n",
              "      border-color: transparent;\n",
              "      border-left-color: var(--fill-color);\n",
              "      border-top-color: var(--fill-color);\n",
              "      border-right-color: var(--fill-color);\n",
              "    }\n",
              "    40% {\n",
              "      border-color: transparent;\n",
              "      border-right-color: var(--fill-color);\n",
              "      border-top-color: var(--fill-color);\n",
              "    }\n",
              "    60% {\n",
              "      border-color: transparent;\n",
              "      border-right-color: var(--fill-color);\n",
              "    }\n",
              "    80% {\n",
              "      border-color: transparent;\n",
              "      border-right-color: var(--fill-color);\n",
              "      border-bottom-color: var(--fill-color);\n",
              "    }\n",
              "    90% {\n",
              "      border-color: transparent;\n",
              "      border-bottom-color: var(--fill-color);\n",
              "    }\n",
              "  }\n",
              "</style>\n",
              "\n",
              "  <script>\n",
              "    async function quickchart(key) {\n",
              "      const quickchartButtonEl =\n",
              "        document.querySelector('#' + key + ' button');\n",
              "      quickchartButtonEl.disabled = true;  // To prevent multiple clicks.\n",
              "      quickchartButtonEl.classList.add('colab-df-spinner');\n",
              "      try {\n",
              "        const charts = await google.colab.kernel.invokeFunction(\n",
              "            'suggestCharts', [key], {});\n",
              "      } catch (error) {\n",
              "        console.error('Error during call to suggestCharts:', error);\n",
              "      }\n",
              "      quickchartButtonEl.classList.remove('colab-df-spinner');\n",
              "      quickchartButtonEl.classList.add('colab-df-quickchart-complete');\n",
              "    }\n",
              "    (() => {\n",
              "      let quickchartButtonEl =\n",
              "        document.querySelector('#df-142215a1-f967-42a7-9321-c6b2e7d25367 button');\n",
              "      quickchartButtonEl.style.display =\n",
              "        google.colab.kernel.accessAllowed ? 'block' : 'none';\n",
              "    })();\n",
              "  </script>\n",
              "</div>\n",
              "\n",
              "    </div>\n",
              "  </div>\n"
            ],
            "application/vnd.google.colaboratory.intrinsic+json": {
              "type": "dataframe",
              "summary": "{\n  \"name\": \"train_data\",\n  \"rows\": 3,\n  \"fields\": [\n    {\n      \"column\": \"count\",\n      \"properties\": {\n        \"dtype\": \"date\",\n        \"min\": \"73996\",\n        \"max\": \"74682\",\n        \"num_unique_values\": 2,\n        \"samples\": [\n          \"73996\",\n          \"74682\"\n        ],\n        \"semantic_type\": \"\",\n        \"description\": \"\"\n      }\n    },\n    {\n      \"column\": \"unique\",\n      \"properties\": {\n        \"dtype\": \"date\",\n        \"min\": 4,\n        \"max\": 69491,\n        \"num_unique_values\": 3,\n        \"samples\": [\n          32,\n          4\n        ],\n        \"semantic_type\": \"\",\n        \"description\": \"\"\n      }\n    },\n    {\n      \"column\": \"top\",\n      \"properties\": {\n        \"dtype\": \"string\",\n        \"num_unique_values\": 3,\n        \"samples\": [\n          \"TomClancysRainbowSix\",\n          \"Negative\"\n        ],\n        \"semantic_type\": \"\",\n        \"description\": \"\"\n      }\n    },\n    {\n      \"column\": \"freq\",\n      \"properties\": {\n        \"dtype\": \"date\",\n        \"min\": \"172\",\n        \"max\": \"22542\",\n        \"num_unique_values\": 3,\n        \"samples\": [\n          \"2400\",\n          \"22542\"\n        ],\n        \"semantic_type\": \"\",\n        \"description\": \"\"\n      }\n    }\n  ]\n}"
            }
          },
          "metadata": {},
          "execution_count": 8
        }
      ]
    },
    {
      "cell_type": "code",
      "source": [
        "train_data.sentiment.value_counts().plot(kind='pie', autopct='%1.0f%%')"
      ],
      "metadata": {
        "execution": {
          "iopub.status.busy": "2024-07-26T20:05:40.993325Z",
          "iopub.execute_input": "2024-07-26T20:05:40.99361Z",
          "iopub.status.idle": "2024-07-26T20:05:41.194913Z",
          "shell.execute_reply.started": "2024-07-26T20:05:40.993587Z",
          "shell.execute_reply": "2024-07-26T20:05:41.193509Z"
        },
        "trusted": true,
        "id": "jlWdwI2iaQmk",
        "outputId": "0eec8b8a-c4f5-4996-d60d-3cb3b6ceefe9",
        "colab": {
          "base_uri": "https://localhost:8080/",
          "height": 425
        }
      },
      "execution_count": 9,
      "outputs": [
        {
          "output_type": "execute_result",
          "data": {
            "text/plain": [
              "<Axes: ylabel='count'>"
            ]
          },
          "metadata": {},
          "execution_count": 9
        },
        {
          "output_type": "display_data",
          "data": {
            "text/plain": [
              "<Figure size 640x480 with 1 Axes>"
            ],
            "image/png": "[encoded data removed]"
          },
          "metadata": {}
        }
      ]
    },
    {
      "cell_type": "code",
      "source": [
        "train_data.entity.value_counts().plot(kind='bar')"
      ],
      "metadata": {
        "execution": {
          "iopub.status.busy": "2024-07-26T20:05:41.196936Z",
          "iopub.execute_input": "2024-07-26T20:05:41.197914Z",
          "iopub.status.idle": "2024-07-26T20:05:41.704Z",
          "shell.execute_reply.started": "2024-07-26T20:05:41.197775Z",
          "shell.execute_reply": "2024-07-26T20:05:41.702879Z"
        },
        "trusted": true,
        "id": "CMoRzW29aQmk",
        "outputId": "e0e097ac-8a8e-4cde-9f19-d362c2ca8554",
        "colab": {
          "base_uri": "https://localhost:8080/",
          "height": 719
        }
      },
      "execution_count": 10,
      "outputs": [
        {
          "output_type": "execute_result",
          "data": {
            "text/plain": [
              "<Axes: xlabel='entity'>"
            ]
          },
          "metadata": {},
          "execution_count": 10
        },
        {
          "output_type": "display_data",
          "data": {
            "text/plain": [
              "<Figure size 640x480 with 1 Axes>"
            ],
            "image/png": "[encoded data removed]"
          },
          "metadata": {}
        }
      ]
    },
    {
      "cell_type": "markdown",
      "source": [
        "## I.02 Data Cleaning :"
      ],
      "metadata": {
        "id": "4aZPT80vaQml"
      }
    },
    {
      "cell_type": "markdown",
      "source": [
        "### I.02.a clear nan and Irrelevant :"
      ],
      "metadata": {
        "id": "y-vvJ3ywaQml"
      }
    },
    {
      "cell_type": "code",
      "source": [
        "train_data = train_data.dropna(subset=['Tweet content'])\n",
        "val_data = val_data.dropna(subset=['Tweet content'])\n",
        "\n",
        "train_data.reset_index(drop=True, inplace=True)\n",
        "val_data.reset_index(drop=True, inplace=True)"
      ],
      "metadata": {
        "execution": {
          "iopub.status.busy": "2024-07-26T20:05:41.705875Z",
          "iopub.execute_input": "2024-07-26T20:05:41.706331Z",
          "iopub.status.idle": "2024-07-26T20:05:41.737902Z",
          "shell.execute_reply.started": "2024-07-26T20:05:41.706293Z",
          "shell.execute_reply": "2024-07-26T20:05:41.736858Z"
        },
        "trusted": true,
        "id": "w_rPEgmKaQml"
      },
      "execution_count": 11,
      "outputs": []
    },
    {
      "cell_type": "code",
      "source": [
        "def del_irr(data):\n",
        "    id_ = []\n",
        "    cnt = 0\n",
        "    for sent in data.sentiment:\n",
        "        if sent == \"Irrelevant\":\n",
        "            id_.append(cnt)\n",
        "        cnt += 1\n",
        "    data.drop(id_,inplace=True)"
      ],
      "metadata": {
        "execution": {
          "iopub.status.busy": "2024-07-26T20:05:41.739175Z",
          "iopub.execute_input": "2024-07-26T20:05:41.739522Z",
          "iopub.status.idle": "2024-07-26T20:05:41.745008Z",
          "shell.execute_reply.started": "2024-07-26T20:05:41.739494Z",
          "shell.execute_reply": "2024-07-26T20:05:41.743833Z"
        },
        "trusted": true,
        "id": "ZO5HxWq-aQmm"
      },
      "execution_count": 12,
      "outputs": []
    },
    {
      "cell_type": "code",
      "source": [
        "del_irr(train_data)\n",
        "del_irr(val_data)"
      ],
      "metadata": {
        "execution": {
          "iopub.status.busy": "2024-07-26T20:05:41.746312Z",
          "iopub.execute_input": "2024-07-26T20:05:41.746628Z",
          "iopub.status.idle": "2024-07-26T20:05:41.782879Z",
          "shell.execute_reply.started": "2024-07-26T20:05:41.746602Z",
          "shell.execute_reply": "2024-07-26T20:05:41.781508Z"
        },
        "trusted": true,
        "id": "nRROAzIgaQmm"
      },
      "execution_count": 13,
      "outputs": []
    },
    {
      "cell_type": "code",
      "source": [
        "# to fix concatinat problem\n",
        "\n",
        "train_data.reset_index(drop=True, inplace=True)\n",
        "val_data.reset_index(drop=True, inplace=True)"
      ],
      "metadata": {
        "execution": {
          "iopub.status.busy": "2024-07-26T20:05:41.78677Z",
          "iopub.execute_input": "2024-07-26T20:05:41.787228Z",
          "iopub.status.idle": "2024-07-26T20:05:41.792973Z",
          "shell.execute_reply.started": "2024-07-26T20:05:41.787189Z",
          "shell.execute_reply": "2024-07-26T20:05:41.791736Z"
        },
        "trusted": true,
        "id": "Tdfo2mU1aQmm"
      },
      "execution_count": 14,
      "outputs": []
    },
    {
      "cell_type": "code",
      "source": [
        "len(train_data)"
      ],
      "metadata": {
        "execution": {
          "iopub.status.busy": "2024-07-26T20:05:41.794501Z",
          "iopub.execute_input": "2024-07-26T20:05:41.794827Z",
          "iopub.status.idle": "2024-07-26T20:05:41.808572Z",
          "shell.execute_reply.started": "2024-07-26T20:05:41.794793Z",
          "shell.execute_reply": "2024-07-26T20:05:41.807378Z"
        },
        "trusted": true,
        "id": "o_bhJRAxaQmm",
        "outputId": "c5a10b16-50cb-4617-cbce-faa7de1ecf1f",
        "colab": {
          "base_uri": "https://localhost:8080/"
        }
      },
      "execution_count": 15,
      "outputs": [
        {
          "output_type": "execute_result",
          "data": {
            "text/plain": [
              "61121"
            ]
          },
          "metadata": {},
          "execution_count": 15
        }
      ]
    },
    {
      "cell_type": "code",
      "source": [
        "train_data.sentiment.value_counts()"
      ],
      "metadata": {
        "execution": {
          "iopub.status.busy": "2024-07-26T20:05:41.810076Z",
          "iopub.execute_input": "2024-07-26T20:05:41.81055Z",
          "iopub.status.idle": "2024-07-26T20:05:41.829291Z",
          "shell.execute_reply.started": "2024-07-26T20:05:41.810508Z",
          "shell.execute_reply": "2024-07-26T20:05:41.827999Z"
        },
        "trusted": true,
        "id": "1bFN14uLaQmm",
        "outputId": "cb1e7629-603d-4dce-c55b-c9cff27ff104",
        "colab": {
          "base_uri": "https://localhost:8080/"
        }
      },
      "execution_count": 16,
      "outputs": [
        {
          "output_type": "execute_result",
          "data": {
            "text/plain": [
              "sentiment\n",
              "Negative    22358\n",
              "Positive    20655\n",
              "Neutral     18108\n",
              "Name: count, dtype: int64"
            ]
          },
          "metadata": {},
          "execution_count": 16
        }
      ]
    },
    {
      "cell_type": "markdown",
      "source": [
        "### I.02.b Drop 'Tweet ID'  :"
      ],
      "metadata": {
        "id": "Q6lVMWrraQmn"
      }
    },
    {
      "cell_type": "code",
      "source": [
        "train_data = train_data.drop('Tweet ID',axis=1)\n",
        "val_data = val_data.drop('Tweet ID',axis=1)"
      ],
      "metadata": {
        "execution": {
          "iopub.status.busy": "2024-07-26T20:05:41.831Z",
          "iopub.execute_input": "2024-07-26T20:05:41.831477Z",
          "iopub.status.idle": "2024-07-26T20:05:41.845087Z",
          "shell.execute_reply.started": "2024-07-26T20:05:41.831437Z",
          "shell.execute_reply": "2024-07-26T20:05:41.843934Z"
        },
        "trusted": true,
        "id": "W8CjI40zaQmn"
      },
      "execution_count": 17,
      "outputs": []
    },
    {
      "cell_type": "code",
      "source": [
        "train_data"
      ],
      "metadata": {
        "execution": {
          "iopub.status.busy": "2024-07-26T20:05:42.023946Z",
          "iopub.execute_input": "2024-07-26T20:05:42.024884Z",
          "iopub.status.idle": "2024-07-26T20:05:42.037539Z",
          "shell.execute_reply.started": "2024-07-26T20:05:42.024796Z",
          "shell.execute_reply": "2024-07-26T20:05:42.036377Z"
        },
        "trusted": true,
        "id": "CQWSj9BZaQmn",
        "outputId": "80067b86-5e82-48b7-b046-06cecd2ea009",
        "colab": {
          "base_uri": "https://localhost:8080/",
          "height": 424
        }
      },
      "execution_count": 18,
      "outputs": [
        {
          "output_type": "execute_result",
          "data": {
            "text/plain": [
              "            entity sentiment  \\\n",
              "0      Borderlands  Positive   \n",
              "1      Borderlands  Positive   \n",
              "2      Borderlands  Positive   \n",
              "3      Borderlands  Positive   \n",
              "4      Borderlands  Positive   \n",
              "...            ...       ...   \n",
              "61116       Nvidia  Positive   \n",
              "61117       Nvidia  Positive   \n",
              "61118       Nvidia  Positive   \n",
              "61119       Nvidia  Positive   \n",
              "61120       Nvidia  Positive   \n",
              "\n",
              "                                           Tweet content  \n",
              "0      im getting on borderlands and i will murder yo...  \n",
              "1      I am coming to the borders and I will kill you...  \n",
              "2      im getting on borderlands and i will kill you ...  \n",
              "3      im coming on borderlands and i will murder you...  \n",
              "4      im getting on borderlands 2 and i will murder ...  \n",
              "...                                                  ...  \n",
              "61116  Just realized that the Windows partition of my...  \n",
              "61117  Just realized that my Mac window partition is ...  \n",
              "61118  Just realized the windows partition of my Mac ...  \n",
              "61119  Just realized between the windows partition of...  \n",
              "61120  Just like the windows partition of my Mac is l...  \n",
              "\n",
              "[61121 rows x 3 columns]"
            ],
            "text/html": [
              "\n",
              "  <div id=\"df-4eaeae95-81f0-4222-8e5b-a51b1fa785bb\" class=\"colab-df-container\">\n",
              "    <div>\n",
              "<style scoped>\n",
              "    .dataframe tbody tr th:only-of-type {\n",
              "        vertical-align: middle;\n",
              "    }\n",
              "\n",
              "    .dataframe tbody tr th {\n",
              "        vertical-align: top;\n",
              "    }\n",
              "\n",
              "    .dataframe thead th {\n",
              "        text-align: right;\n",
              "    }\n",
              "</style>\n",
              "<table border=\"1\" class=\"dataframe\">\n",
              "  <thead>\n",
              "    <tr style=\"text-align: right;\">\n",
              "      <th></th>\n",
              "      <th>entity</th>\n",
              "      <th>sentiment</th>\n",
              "      <th>Tweet content</th>\n",
              "    </tr>\n",
              "  </thead>\n",
              "  <tbody>\n",
              "    <tr>\n",
              "      <th>0</th>\n",
              "      <td>Borderlands</td>\n",
              "      <td>Positive</td>\n",
              "      <td>im getting on borderlands and i will murder yo...</td>\n",
              "    </tr>\n",
              "    <tr>\n",
              "      <th>1</th>\n",
              "      <td>Borderlands</td>\n",
              "      <td>Positive</td>\n",
              "      <td>I am coming to the borders and I will kill you...</td>\n",
              "    </tr>\n",
              "    <tr>\n",
              "      <th>2</th>\n",
              "      <td>Borderlands</td>\n",
              "      <td>Positive</td>\n",
              "      <td>im getting on borderlands and i will kill you ...</td>\n",
              "    </tr>\n",
              "    <tr>\n",
              "      <th>3</th>\n",
              "      <td>Borderlands</td>\n",
              "      <td>Positive</td>\n",
              "      <td>im coming on borderlands and i will murder you...</td>\n",
              "    </tr>\n",
              "    <tr>\n",
              "      <th>4</th>\n",
              "      <td>Borderlands</td>\n",
              "      <td>Positive</td>\n",
              "      <td>im getting on borderlands 2 and i will murder ...</td>\n",
              "    </tr>\n",
              "    <tr>\n",
              "      <th>...</th>\n",
              "      <td>...</td>\n",
              "      <td>...</td>\n",
              "      <td>...</td>\n",
              "    </tr>\n",
              "    <tr>\n",
              "      <th>61116</th>\n",
              "      <td>Nvidia</td>\n",
              "      <td>Positive</td>\n",
              "      <td>Just realized that the Windows partition of my...</td>\n",
              "    </tr>\n",
              "    <tr>\n",
              "      <th>61117</th>\n",
              "      <td>Nvidia</td>\n",
              "      <td>Positive</td>\n",
              "      <td>Just realized that my Mac window partition is ...</td>\n",
              "    </tr>\n",
              "    <tr>\n",
              "      <th>61118</th>\n",
              "      <td>Nvidia</td>\n",
              "      <td>Positive</td>\n",
              "      <td>Just realized the windows partition of my Mac ...</td>\n",
              "    </tr>\n",
              "    <tr>\n",
              "      <th>61119</th>\n",
              "      <td>Nvidia</td>\n",
              "      <td>Positive</td>\n",
              "      <td>Just realized between the windows partition of...</td>\n",
              "    </tr>\n",
              "    <tr>\n",
              "      <th>61120</th>\n",
              "      <td>Nvidia</td>\n",
              "      <td>Positive</td>\n",
              "      <td>Just like the windows partition of my Mac is l...</td>\n",
              "    </tr>\n",
              "  </tbody>\n",
              "</table>\n",
              "<p>61121 rows × 3 columns</p>\n",
              "</div>\n",
              "    <div class=\"colab-df-buttons\">\n",
              "\n",
              "  <div class=\"colab-df-container\">\n",
              "    <button class=\"colab-df-convert\" onclick=\"convertToInteractive('df-4eaeae95-81f0-4222-8e5b-a51b1fa785bb')\"\n",
              "            title=\"Convert this dataframe to an interactive table.\"\n",
              "            style=\"display:none;\">\n",
              "\n",
              "  <svg xmlns=\"http://www.w3.org/2000/svg\" height=\"24px\" viewBox=\"0 -960 960 960\">\n",
              "    <path d=\"M120-120v-720h720v720H120Zm60-500h600v-160H180v160Zm220 220h160v-160H400v160Zm0 220h160v-160H400v160ZM180-400h160v-160H180v160Zm440 0h160v-160H620v160ZM180-180h160v-160H180v160Zm440 0h160v-160H620v160Z\"/>\n",
              "  </svg>\n",
              "    </button>\n",
              "\n",
              "  <style>\n",
              "    .colab-df-container {\n",
              "      display:flex;\n",
              "      gap: 12px;\n",
              "    }\n",
              "\n",
              "    .colab-df-convert {\n",
              "      background-color: #E8F0FE;\n",
              "      border: none;\n",
              "      border-radius: 50%;\n",
              "      cursor: pointer;\n",
              "      display: none;\n",
              "      fill: #1967D2;\n",
              "      height: 32px;\n",
              "      padding: 0 0 0 0;\n",
              "      width: 32px;\n",
              "    }\n",
              "\n",
              "    .colab-df-convert:hover {\n",
              "      background-color: #E2EBFA;\n",
              "      box-shadow: 0px 1px 2px rgba(60, 64, 67, 0.3), 0px 1px 3px 1px rgba(60, 64, 67, 0.15);\n",
              "      fill: #174EA6;\n",
              "    }\n",
              "\n",
              "    .colab-df-buttons div {\n",
              "      margin-bottom: 4px;\n",
              "    }\n",
              "\n",
              "    [theme=dark] .colab-df-convert {\n",
              "      background-color: #3B4455;\n",
              "      fill: #D2E3FC;\n",
              "    }\n",
              "\n",
              "    [theme=dark] .colab-df-convert:hover {\n",
              "      background-color: #434B5C;\n",
              "      box-shadow: 0px 1px 3px 1px rgba(0, 0, 0, 0.15);\n",
              "      filter: drop-shadow(0px 1px 2px rgba(0, 0, 0, 0.3));\n",
              "      fill: #FFFFFF;\n",
              "    }\n",
              "  </style>\n",
              "\n",
              "    <script>\n",
              "      const buttonEl =\n",
              "        document.querySelector('#df-4eaeae95-81f0-4222-8e5b-a51b1fa785bb button.colab-df-convert');\n",
              "      buttonEl.style.display =\n",
              "        google.colab.kernel.accessAllowed ? 'block' : 'none';\n",
              "\n",
              "      async function convertToInteractive(key) {\n",
              "        const element = document.querySelector('#df-4eaeae95-81f0-4222-8e5b-a51b1fa785bb');\n",
              "        const dataTable =\n",
              "          await google.colab.kernel.invokeFunction('convertToInteractive',\n",
              "                                                    [key], {});\n",
              "        if (!dataTable) return;\n",
              "\n",
              "        const docLinkHtml = 'Like what you see? Visit the ' +\n",
              "          '<a target=\"_blank\" href=https://colab.research.google.com/notebooks/data_table.ipynb>data table notebook</a>'\n",
              "          + ' to learn more about interactive tables.';\n",
              "        element.innerHTML = '';\n",
              "        dataTable['output_type'] = 'display_data';\n",
              "        await google.colab.output.renderOutput(dataTable, element);\n",
              "        const docLink = document.createElement('div');\n",
              "        docLink.innerHTML = docLinkHtml;\n",
              "        element.appendChild(docLink);\n",
              "      }\n",
              "    </script>\n",
              "  </div>\n",
              "\n",
              "\n",
              "<div id=\"df-657acbd7-ebcc-4936-b2bd-b862a83507f5\">\n",
              "  <button class=\"colab-df-quickchart\" onclick=\"quickchart('df-657acbd7-ebcc-4936-b2bd-b862a83507f5')\"\n",
              "            title=\"Suggest charts\"\n",
              "            style=\"display:none;\">\n",
              "\n",
              "<svg xmlns=\"http://www.w3.org/2000/svg\" height=\"24px\"viewBox=\"0 0 24 24\"\n",
              "     width=\"24px\">\n",
              "    <g>\n",
              "        <path d=\"M19 3H5c-1.1 0-2 .9-2 2v14c0 1.1.9 2 2 2h14c1.1 0 2-.9 2-2V5c0-1.1-.9-2-2-2zM9 17H7v-7h2v7zm4 0h-2V7h2v10zm4 0h-2v-4h2v4z\"/>\n",
              "    </g>\n",
              "</svg>\n",
              "  </button>\n",
              "\n",
              "<style>\n",
              "  .colab-df-quickchart {\n",
              "      --bg-color: #E8F0FE;\n",
              "      --fill-color: #1967D2;\n",
              "      --hover-bg-color: #E2EBFA;\n",
              "      --hover-fill-color: #174EA6;\n",
              "      --disabled-fill-color: #AAA;\n",
              "      --disabled-bg-color: #DDD;\n",
              "  }\n",
              "\n",
              "  [theme=dark] .colab-df-quickchart {\n",
              "      --bg-color: #3B4455;\n",
              "      --fill-color: #D2E3FC;\n",
              "      --hover-bg-color: #434B5C;\n",
              "      --hover-fill-color: #FFFFFF;\n",
              "      --disabled-bg-color: #3B4455;\n",
              "      --disabled-fill-color: #666;\n",
              "  }\n",
              "\n",
              "  .colab-df-quickchart {\n",
              "    background-color: var(--bg-color);\n",
              "    border: none;\n",
              "    border-radius: 50%;\n",
              "    cursor: pointer;\n",
              "    display: none;\n",
              "    fill: var(--fill-color);\n",
              "    height: 32px;\n",
              "    padding: 0;\n",
              "    width: 32px;\n",
              "  }\n",
              "\n",
              "  .colab-df-quickchart:hover {\n",
              "    background-color: var(--hover-bg-color);\n",
              "    box-shadow: 0 1px 2px rgba(60, 64, 67, 0.3), 0 1px 3px 1px rgba(60, 64, 67, 0.15);\n",
              "    fill: var(--button-hover-fill-color);\n",
              "  }\n",
              "\n",
              "  .colab-df-quickchart-complete:disabled,\n",
              "  .colab-df-quickchart-complete:disabled:hover {\n",
              "    background-color: var(--disabled-bg-color);\n",
              "    fill: var(--disabled-fill-color);\n",
              "    box-shadow: none;\n",
              "  }\n",
              "\n",
              "  .colab-df-spinner {\n",
              "    border: 2px solid var(--fill-color);\n",
              "    border-color: transparent;\n",
              "    border-bottom-color: var(--fill-color);\n",
              "    animation:\n",
              "      spin 1s steps(1) infinite;\n",
              "  }\n",
              "\n",
              "  @keyframes spin {\n",
              "    0% {\n",
              "      border-color: transparent;\n",
              "      border-bottom-color: var(--fill-color);\n",
              "      border-left-color: var(--fill-color);\n",
              "    }\n",
              "    20% {\n",
              "      border-color: transparent;\n",
              "      border-left-color: var(--fill-color);\n",
              "      border-top-color: var(--fill-color);\n",
              "    }\n",
              "    30% {\n",
              "      border-color: transparent;\n",
              "      border-left-color: var(--fill-color);\n",
              "      border-top-color: var(--fill-color);\n",
              "      border-right-color: var(--fill-color);\n",
              "    }\n",
              "    40% {\n",
              "      border-color: transparent;\n",
              "      border-right-color: var(--fill-color);\n",
              "      border-top-color: var(--fill-color);\n",
              "    }\n",
              "    60% {\n",
              "      border-color: transparent;\n",
              "      border-right-color: var(--fill-color);\n",
              "    }\n",
              "    80% {\n",
              "      border-color: transparent;\n",
              "      border-right-color: var(--fill-color);\n",
              "      border-bottom-color: var(--fill-color);\n",
              "    }\n",
              "    90% {\n",
              "      border-color: transparent;\n",
              "      border-bottom-color: var(--fill-color);\n",
              "    }\n",
              "  }\n",
              "</style>\n",
              "\n",
              "  <script>\n",
              "    async function quickchart(key) {\n",
              "      const quickchartButtonEl =\n",
              "        document.querySelector('#' + key + ' button');\n",
              "      quickchartButtonEl.disabled = true;  // To prevent multiple clicks.\n",
              "      quickchartButtonEl.classList.add('colab-df-spinner');\n",
              "      try {\n",
              "        const charts = await google.colab.kernel.invokeFunction(\n",
              "            'suggestCharts', [key], {});\n",
              "      } catch (error) {\n",
              "        console.error('Error during call to suggestCharts:', error);\n",
              "      }\n",
              "      quickchartButtonEl.classList.remove('colab-df-spinner');\n",
              "      quickchartButtonEl.classList.add('colab-df-quickchart-complete');\n",
              "    }\n",
              "    (() => {\n",
              "      let quickchartButtonEl =\n",
              "        document.querySelector('#df-657acbd7-ebcc-4936-b2bd-b862a83507f5 button');\n",
              "      quickchartButtonEl.style.display =\n",
              "        google.colab.kernel.accessAllowed ? 'block' : 'none';\n",
              "    })();\n",
              "  </script>\n",
              "</div>\n",
              "\n",
              "  <div id=\"id_b4b19c27-f4a2-445a-9449-c3acd5a4ba0d\">\n",
              "    <style>\n",
              "      .colab-df-generate {\n",
              "        background-color: #E8F0FE;\n",
              "        border: none;\n",
              "        border-radius: 50%;\n",
              "        cursor: pointer;\n",
              "        display: none;\n",
              "        fill: #1967D2;\n",
              "        height: 32px;\n",
              "        padding: 0 0 0 0;\n",
              "        width: 32px;\n",
              "      }\n",
              "\n",
              "      .colab-df-generate:hover {\n",
              "        background-color: #E2EBFA;\n",
              "        box-shadow: 0px 1px 2px rgba(60, 64, 67, 0.3), 0px 1px 3px 1px rgba(60, 64, 67, 0.15);\n",
              "        fill: #174EA6;\n",
              "      }\n",
              "\n",
              "      [theme=dark] .colab-df-generate {\n",
              "        background-color: #3B4455;\n",
              "        fill: #D2E3FC;\n",
              "      }\n",
              "\n",
              "      [theme=dark] .colab-df-generate:hover {\n",
              "        background-color: #434B5C;\n",
              "        box-shadow: 0px 1px 3px 1px rgba(0, 0, 0, 0.15);\n",
              "        filter: drop-shadow(0px 1px 2px rgba(0, 0, 0, 0.3));\n",
              "        fill: #FFFFFF;\n",
              "      }\n",
              "    </style>\n",
              "    <button class=\"colab-df-generate\" onclick=\"generateWithVariable('train_data')\"\n",
              "            title=\"Generate code using this dataframe.\"\n",
              "            style=\"display:none;\">\n",
              "\n",
              "  <svg xmlns=\"http://www.w3.org/2000/svg\" height=\"24px\"viewBox=\"0 0 24 24\"\n",
              "       width=\"24px\">\n",
              "    <path d=\"M7,19H8.4L18.45,9,17,7.55,7,17.6ZM5,21V16.75L18.45,3.32a2,2,0,0,1,2.83,0l1.4,1.43a1.91,1.91,0,0,1,.58,1.4,1.91,1.91,0,0,1-.58,1.4L9.25,21ZM18.45,9,17,7.55Zm-12,3A5.31,5.31,0,0,0,4.9,8.1,5.31,5.31,0,0,0,1,6.5,5.31,5.31,0,0,0,4.9,4.9,5.31,5.31,0,0,0,6.5,1,5.31,5.31,0,0,0,8.1,4.9,5.31,5.31,0,0,0,12,6.5,5.46,5.46,0,0,0,6.5,12Z\"/>\n",
              "  </svg>\n",
              "    </button>\n",
              "    <script>\n",
              "      (() => {\n",
              "      const buttonEl =\n",
              "        document.querySelector('#id_b4b19c27-f4a2-445a-9449-c3acd5a4ba0d button.colab-df-generate');\n",
              "      buttonEl.style.display =\n",
              "        google.colab.kernel.accessAllowed ? 'block' : 'none';\n",
              "\n",
              "      buttonEl.onclick = () => {\n",
              "        google.colab.notebook.generateWithVariable('train_data');\n",
              "      }\n",
              "      })();\n",
              "    </script>\n",
              "  </div>\n",
              "\n",
              "    </div>\n",
              "  </div>\n"
            ],
            "application/vnd.google.colaboratory.intrinsic+json": {
              "type": "dataframe",
              "variable_name": "train_data",
              "summary": "{\n  \"name\": \"train_data\",\n  \"rows\": 61121,\n  \"fields\": [\n    {\n      \"column\": \"entity\",\n      \"properties\": {\n        \"dtype\": \"category\",\n        \"num_unique_values\": 32,\n        \"samples\": [\n          \"Cyberpunk2077\",\n          \"Microsoft\",\n          \"TomClancysRainbowSix\"\n        ],\n        \"semantic_type\": \"\",\n        \"description\": \"\"\n      }\n    },\n    {\n      \"column\": \"sentiment\",\n      \"properties\": {\n        \"dtype\": \"category\",\n        \"num_unique_values\": 3,\n        \"samples\": [\n          \"Positive\",\n          \"Neutral\",\n          \"Negative\"\n        ],\n        \"semantic_type\": \"\",\n        \"description\": \"\"\n      }\n    },\n    {\n      \"column\": \"Tweet content\",\n      \"properties\": {\n        \"dtype\": \"string\",\n        \"num_unique_values\": 57297,\n        \"samples\": [\n          \"If @ Treyarch does not remove the damn shrubs from Cartel, this card is doomed to fail.\",\n          \"The only pity is that there won't be a live broadcast tonight, which will have a lot of problems with the internet and it won't be able to maintain the stream.\",\n          \"@GhostRecon ever gonna fix mercenaries mode in woodlands ? So many people in PVP talk about it but it only worked for like 2 months. Would love to see it going again was really fun.\"\n        ],\n        \"semantic_type\": \"\",\n        \"description\": \"\"\n      }\n    }\n  ]\n}"
            }
          },
          "metadata": {},
          "execution_count": 18
        }
      ]
    },
    {
      "cell_type": "markdown",
      "source": [
        "## I.03 Data Encodeing"
      ],
      "metadata": {
        "id": "ggBrtEkeaQmn"
      }
    },
    {
      "cell_type": "code",
      "source": [
        "s = np.array(train_data.sentiment.values).reshape(-1,1)\n",
        "s2 = np.array(val_data.sentiment.values).reshape(-1,1)"
      ],
      "metadata": {
        "execution": {
          "iopub.status.busy": "2024-07-26T20:05:46.679825Z",
          "iopub.execute_input": "2024-07-26T20:05:46.680226Z",
          "iopub.status.idle": "2024-07-26T20:05:46.68662Z",
          "shell.execute_reply.started": "2024-07-26T20:05:46.680193Z",
          "shell.execute_reply": "2024-07-26T20:05:46.685499Z"
        },
        "trusted": true,
        "id": "Xvuuj55gaQmn"
      },
      "execution_count": 19,
      "outputs": []
    },
    {
      "cell_type": "code",
      "source": [
        "OHE_sent = OneHotEncoder()\n",
        "OHE_sent_fit = OHE_sent.fit(s)\n",
        "encoded_train = OHE_sent.transform(s).toarray()\n",
        "encoded_val = OHE_sent.transform(s2).toarray()"
      ],
      "metadata": {
        "execution": {
          "iopub.status.busy": "2024-07-26T20:05:47.294808Z",
          "iopub.execute_input": "2024-07-26T20:05:47.295187Z",
          "iopub.status.idle": "2024-07-26T20:05:47.319691Z",
          "shell.execute_reply.started": "2024-07-26T20:05:47.295158Z",
          "shell.execute_reply": "2024-07-26T20:05:47.318604Z"
        },
        "trusted": true,
        "id": "WIT870GvaQmn"
      },
      "execution_count": 20,
      "outputs": []
    },
    {
      "cell_type": "code",
      "source": [
        "OHE_sent_fit.categories_"
      ],
      "metadata": {
        "execution": {
          "iopub.status.busy": "2024-07-26T20:05:50.685511Z",
          "iopub.execute_input": "2024-07-26T20:05:50.685907Z",
          "iopub.status.idle": "2024-07-26T20:05:50.692874Z",
          "shell.execute_reply.started": "2024-07-26T20:05:50.685864Z",
          "shell.execute_reply": "2024-07-26T20:05:50.691571Z"
        },
        "trusted": true,
        "id": "9fO0dubiaQmn",
        "outputId": "40b17e27-2f23-4d2e-922d-2fdea4b4db9f",
        "colab": {
          "base_uri": "https://localhost:8080/"
        }
      },
      "execution_count": 21,
      "outputs": [
        {
          "output_type": "execute_result",
          "data": {
            "text/plain": [
              "[array(['Negative', 'Neutral', 'Positive'], dtype=object)]"
            ]
          },
          "metadata": {},
          "execution_count": 21
        }
      ]
    },
    {
      "cell_type": "code",
      "source": [
        "y_train = pd.DataFrame(encoded_train,columns=['Negative', 'Neutral', 'Positive'])\n",
        "y_val =pd.DataFrame(encoded_val,columns=['Negative', 'Neutral', 'Positive'])"
      ],
      "metadata": {
        "execution": {
          "iopub.status.busy": "2024-07-26T20:05:50.969133Z",
          "iopub.execute_input": "2024-07-26T20:05:50.969542Z",
          "iopub.status.idle": "2024-07-26T20:05:50.97845Z",
          "shell.execute_reply.started": "2024-07-26T20:05:50.969505Z",
          "shell.execute_reply": "2024-07-26T20:05:50.977457Z"
        },
        "trusted": true,
        "id": "RFnvfrSJaQmo"
      },
      "execution_count": 22,
      "outputs": []
    },
    {
      "cell_type": "code",
      "source": [
        "len(y_train),len(train_data)"
      ],
      "metadata": {
        "execution": {
          "iopub.status.busy": "2024-07-26T20:05:51.710145Z",
          "iopub.execute_input": "2024-07-26T20:05:51.711026Z",
          "iopub.status.idle": "2024-07-26T20:05:51.718153Z",
          "shell.execute_reply.started": "2024-07-26T20:05:51.710987Z",
          "shell.execute_reply": "2024-07-26T20:05:51.716329Z"
        },
        "trusted": true,
        "id": "iYNfmUnDaQmo",
        "outputId": "f314581d-b546-43f3-9e86-a8cf3e189bac",
        "colab": {
          "base_uri": "https://localhost:8080/"
        }
      },
      "execution_count": 23,
      "outputs": [
        {
          "output_type": "execute_result",
          "data": {
            "text/plain": [
              "(61121, 61121)"
            ]
          },
          "metadata": {},
          "execution_count": 23
        }
      ]
    },
    {
      "cell_type": "code",
      "source": [
        "train_data_ = train_data.drop(\"sentiment\",axis=1)\n",
        "val_data_ = val_data.drop(\"sentiment\",axis=1)"
      ],
      "metadata": {
        "execution": {
          "iopub.status.busy": "2024-07-26T20:05:52.40441Z",
          "iopub.execute_input": "2024-07-26T20:05:52.404782Z",
          "iopub.status.idle": "2024-07-26T20:05:52.413608Z",
          "shell.execute_reply.started": "2024-07-26T20:05:52.404755Z",
          "shell.execute_reply": "2024-07-26T20:05:52.412341Z"
        },
        "trusted": true,
        "id": "cjioLqeMaQmo"
      },
      "execution_count": 24,
      "outputs": []
    },
    {
      "cell_type": "code",
      "source": [
        "train_data_.head(2)"
      ],
      "metadata": {
        "execution": {
          "iopub.status.busy": "2024-07-26T20:05:54.136314Z",
          "iopub.execute_input": "2024-07-26T20:05:54.136709Z",
          "iopub.status.idle": "2024-07-26T20:05:54.14642Z",
          "shell.execute_reply.started": "2024-07-26T20:05:54.136681Z",
          "shell.execute_reply": "2024-07-26T20:05:54.145291Z"
        },
        "trusted": true,
        "id": "8O8l_wt2aQmo",
        "outputId": "de15fa2f-d543-4010-a524-fb136826be07",
        "colab": {
          "base_uri": "https://localhost:8080/",
          "height": 112
        }
      },
      "execution_count": 25,
      "outputs": [
        {
          "output_type": "execute_result",
          "data": {
            "text/plain": [
              "        entity                                      Tweet content\n",
              "0  Borderlands  im getting on borderlands and i will murder yo...\n",
              "1  Borderlands  I am coming to the borders and I will kill you..."
            ],
            "text/html": [
              "\n",
              "  <div id=\"df-eed81f4d-0199-4626-ae2e-2a33cea6e759\" class=\"colab-df-container\">\n",
              "    <div>\n",
              "<style scoped>\n",
              "    .dataframe tbody tr th:only-of-type {\n",
              "        vertical-align: middle;\n",
              "    }\n",
              "\n",
              "    .dataframe tbody tr th {\n",
              "        vertical-align: top;\n",
              "    }\n",
              "\n",
              "    .dataframe thead th {\n",
              "        text-align: right;\n",
              "    }\n",
              "</style>\n",
              "<table border=\"1\" class=\"dataframe\">\n",
              "  <thead>\n",
              "    <tr style=\"text-align: right;\">\n",
              "      <th></th>\n",
              "      <th>entity</th>\n",
              "      <th>Tweet content</th>\n",
              "    </tr>\n",
              "  </thead>\n",
              "  <tbody>\n",
              "    <tr>\n",
              "      <th>0</th>\n",
              "      <td>Borderlands</td>\n",
              "      <td>im getting on borderlands and i will murder yo...</td>\n",
              "    </tr>\n",
              "    <tr>\n",
              "      <th>1</th>\n",
              "      <td>Borderlands</td>\n",
              "      <td>I am coming to the borders and I will kill you...</td>\n",
              "    </tr>\n",
              "  </tbody>\n",
              "</table>\n",
              "</div>\n",
              "    <div class=\"colab-df-buttons\">\n",
              "\n",
              "  <div class=\"colab-df-container\">\n",
              "    <button class=\"colab-df-convert\" onclick=\"convertToInteractive('df-eed81f4d-0199-4626-ae2e-2a33cea6e759')\"\n",
              "            title=\"Convert this dataframe to an interactive table.\"\n",
              "            style=\"display:none;\">\n",
              "\n",
              "  <svg xmlns=\"http://www.w3.org/2000/svg\" height=\"24px\" viewBox=\"0 -960 960 960\">\n",
              "    <path d=\"M120-120v-720h720v720H120Zm60-500h600v-160H180v160Zm220 220h160v-160H400v160Zm0 220h160v-160H400v160ZM180-400h160v-160H180v160Zm440 0h160v-160H620v160ZM180-180h160v-160H180v160Zm440 0h160v-160H620v160Z\"/>\n",
              "  </svg>\n",
              "    </button>\n",
              "\n",
              "  <style>\n",
              "    .colab-df-container {\n",
              "      display:flex;\n",
              "      gap: 12px;\n",
              "    }\n",
              "\n",
              "    .colab-df-convert {\n",
              "      background-color: #E8F0FE;\n",
              "      border: none;\n",
              "      border-radius: 50%;\n",
              "      cursor: pointer;\n",
              "      display: none;\n",
              "      fill: #1967D2;\n",
              "      height: 32px;\n",
              "      padding: 0 0 0 0;\n",
              "      width: 32px;\n",
              "    }\n",
              "\n",
              "    .colab-df-convert:hover {\n",
              "      background-color: #E2EBFA;\n",
              "      box-shadow: 0px 1px 2px rgba(60, 64, 67, 0.3), 0px 1px 3px 1px rgba(60, 64, 67, 0.15);\n",
              "      fill: #174EA6;\n",
              "    }\n",
              "\n",
              "    .colab-df-buttons div {\n",
              "      margin-bottom: 4px;\n",
              "    }\n",
              "\n",
              "    [theme=dark] .colab-df-convert {\n",
              "      background-color: #3B4455;\n",
              "      fill: #D2E3FC;\n",
              "    }\n",
              "\n",
              "    [theme=dark] .colab-df-convert:hover {\n",
              "      background-color: #434B5C;\n",
              "      box-shadow: 0px 1px 3px 1px rgba(0, 0, 0, 0.15);\n",
              "      filter: drop-shadow(0px 1px 2px rgba(0, 0, 0, 0.3));\n",
              "      fill: #FFFFFF;\n",
              "    }\n",
              "  </style>\n",
              "\n",
              "    <script>\n",
              "      const buttonEl =\n",
              "        document.querySelector('#df-eed81f4d-0199-4626-ae2e-2a33cea6e759 button.colab-df-convert');\n",
              "      buttonEl.style.display =\n",
              "        google.colab.kernel.accessAllowed ? 'block' : 'none';\n",
              "\n",
              "      async function convertToInteractive(key) {\n",
              "        const element = document.querySelector('#df-eed81f4d-0199-4626-ae2e-2a33cea6e759');\n",
              "        const dataTable =\n",
              "          await google.colab.kernel.invokeFunction('convertToInteractive',\n",
              "                                                    [key], {});\n",
              "        if (!dataTable) return;\n",
              "\n",
              "        const docLinkHtml = 'Like what you see? Visit the ' +\n",
              "          '<a target=\"_blank\" href=https://colab.research.google.com/notebooks/data_table.ipynb>data table notebook</a>'\n",
              "          + ' to learn more about interactive tables.';\n",
              "        element.innerHTML = '';\n",
              "        dataTable['output_type'] = 'display_data';\n",
              "        await google.colab.output.renderOutput(dataTable, element);\n",
              "        const docLink = document.createElement('div');\n",
              "        docLink.innerHTML = docLinkHtml;\n",
              "        element.appendChild(docLink);\n",
              "      }\n",
              "    </script>\n",
              "  </div>\n",
              "\n",
              "\n",
              "<div id=\"df-9eb3ecce-da34-4e88-a610-aba8290ad6e0\">\n",
              "  <button class=\"colab-df-quickchart\" onclick=\"quickchart('df-9eb3ecce-da34-4e88-a610-aba8290ad6e0')\"\n",
              "            title=\"Suggest charts\"\n",
              "            style=\"display:none;\">\n",
              "\n",
              "<svg xmlns=\"http://www.w3.org/2000/svg\" height=\"24px\"viewBox=\"0 0 24 24\"\n",
              "     width=\"24px\">\n",
              "    <g>\n",
              "        <path d=\"M19 3H5c-1.1 0-2 .9-2 2v14c0 1.1.9 2 2 2h14c1.1 0 2-.9 2-2V5c0-1.1-.9-2-2-2zM9 17H7v-7h2v7zm4 0h-2V7h2v10zm4 0h-2v-4h2v4z\"/>\n",
              "    </g>\n",
              "</svg>\n",
              "  </button>\n",
              "\n",
              "<style>\n",
              "  .colab-df-quickchart {\n",
              "      --bg-color: #E8F0FE;\n",
              "      --fill-color: #1967D2;\n",
              "      --hover-bg-color: #E2EBFA;\n",
              "      --hover-fill-color: #174EA6;\n",
              "      --disabled-fill-color: #AAA;\n",
              "      --disabled-bg-color: #DDD;\n",
              "  }\n",
              "\n",
              "  [theme=dark] .colab-df-quickchart {\n",
              "      --bg-color: #3B4455;\n",
              "      --fill-color: #D2E3FC;\n",
              "      --hover-bg-color: #434B5C;\n",
              "      --hover-fill-color: #FFFFFF;\n",
              "      --disabled-bg-color: #3B4455;\n",
              "      --disabled-fill-color: #666;\n",
              "  }\n",
              "\n",
              "  .colab-df-quickchart {\n",
              "    background-color: var(--bg-color);\n",
              "    border: none;\n",
              "    border-radius: 50%;\n",
              "    cursor: pointer;\n",
              "    display: none;\n",
              "    fill: var(--fill-color);\n",
              "    height: 32px;\n",
              "    padding: 0;\n",
              "    width: 32px;\n",
              "  }\n",
              "\n",
              "  .colab-df-quickchart:hover {\n",
              "    background-color: var(--hover-bg-color);\n",
              "    box-shadow: 0 1px 2px rgba(60, 64, 67, 0.3), 0 1px 3px 1px rgba(60, 64, 67, 0.15);\n",
              "    fill: var(--button-hover-fill-color);\n",
              "  }\n",
              "\n",
              "  .colab-df-quickchart-complete:disabled,\n",
              "  .colab-df-quickchart-complete:disabled:hover {\n",
              "    background-color: var(--disabled-bg-color);\n",
              "    fill: var(--disabled-fill-color);\n",
              "    box-shadow: none;\n",
              "  }\n",
              "\n",
              "  .colab-df-spinner {\n",
              "    border: 2px solid var(--fill-color);\n",
              "    border-color: transparent;\n",
              "    border-bottom-color: var(--fill-color);\n",
              "    animation:\n",
              "      spin 1s steps(1) infinite;\n",
              "  }\n",
              "\n",
              "  @keyframes spin {\n",
              "    0% {\n",
              "      border-color: transparent;\n",
              "      border-bottom-color: var(--fill-color);\n",
              "      border-left-color: var(--fill-color);\n",
              "    }\n",
              "    20% {\n",
              "      border-color: transparent;\n",
              "      border-left-color: var(--fill-color);\n",
              "      border-top-color: var(--fill-color);\n",
              "    }\n",
              "    30% {\n",
              "      border-color: transparent;\n",
              "      border-left-color: var(--fill-color);\n",
              "      border-top-color: var(--fill-color);\n",
              "      border-right-color: var(--fill-color);\n",
              "    }\n",
              "    40% {\n",
              "      border-color: transparent;\n",
              "      border-right-color: var(--fill-color);\n",
              "      border-top-color: var(--fill-color);\n",
              "    }\n",
              "    60% {\n",
              "      border-color: transparent;\n",
              "      border-right-color: var(--fill-color);\n",
              "    }\n",
              "    80% {\n",
              "      border-color: transparent;\n",
              "      border-right-color: var(--fill-color);\n",
              "      border-bottom-color: var(--fill-color);\n",
              "    }\n",
              "    90% {\n",
              "      border-color: transparent;\n",
              "      border-bottom-color: var(--fill-color);\n",
              "    }\n",
              "  }\n",
              "</style>\n",
              "\n",
              "  <script>\n",
              "    async function quickchart(key) {\n",
              "      const quickchartButtonEl =\n",
              "        document.querySelector('#' + key + ' button');\n",
              "      quickchartButtonEl.disabled = true;  // To prevent multiple clicks.\n",
              "      quickchartButtonEl.classList.add('colab-df-spinner');\n",
              "      try {\n",
              "        const charts = await google.colab.kernel.invokeFunction(\n",
              "            'suggestCharts', [key], {});\n",
              "      } catch (error) {\n",
              "        console.error('Error during call to suggestCharts:', error);\n",
              "      }\n",
              "      quickchartButtonEl.classList.remove('colab-df-spinner');\n",
              "      quickchartButtonEl.classList.add('colab-df-quickchart-complete');\n",
              "    }\n",
              "    (() => {\n",
              "      let quickchartButtonEl =\n",
              "        document.querySelector('#df-9eb3ecce-da34-4e88-a610-aba8290ad6e0 button');\n",
              "      quickchartButtonEl.style.display =\n",
              "        google.colab.kernel.accessAllowed ? 'block' : 'none';\n",
              "    })();\n",
              "  </script>\n",
              "</div>\n",
              "\n",
              "    </div>\n",
              "  </div>\n"
            ],
            "application/vnd.google.colaboratory.intrinsic+json": {
              "type": "dataframe",
              "variable_name": "train_data_",
              "summary": "{\n  \"name\": \"train_data_\",\n  \"rows\": 61121,\n  \"fields\": [\n    {\n      \"column\": \"entity\",\n      \"properties\": {\n        \"dtype\": \"category\",\n        \"num_unique_values\": 32,\n        \"samples\": [\n          \"Cyberpunk2077\",\n          \"Microsoft\",\n          \"TomClancysRainbowSix\"\n        ],\n        \"semantic_type\": \"\",\n        \"description\": \"\"\n      }\n    },\n    {\n      \"column\": \"Tweet content\",\n      \"properties\": {\n        \"dtype\": \"string\",\n        \"num_unique_values\": 57297,\n        \"samples\": [\n          \"If @ Treyarch does not remove the damn shrubs from Cartel, this card is doomed to fail.\",\n          \"The only pity is that there won't be a live broadcast tonight, which will have a lot of problems with the internet and it won't be able to maintain the stream.\",\n          \"@GhostRecon ever gonna fix mercenaries mode in woodlands ? So many people in PVP talk about it but it only worked for like 2 months. Would love to see it going again was really fun.\"\n        ],\n        \"semantic_type\": \"\",\n        \"description\": \"\"\n      }\n    }\n  ]\n}"
            }
          },
          "metadata": {},
          "execution_count": 25
        }
      ]
    },
    {
      "cell_type": "code",
      "source": [
        "OHE_entity = OneHotEncoder()\n",
        "OHE_entity_fit = OHE_entity.fit(np.array(train_data_.entity).reshape(-1,1))\n",
        "encoded_train = OHE_entity.transform(np.array(train_data_.entity).reshape(-1,1)).toarray()\n",
        "encoded_val = OHE_entity.transform(np.array(val_data_.entity).reshape(-1,1)).toarray()"
      ],
      "metadata": {
        "execution": {
          "iopub.status.busy": "2024-07-26T20:05:57.628925Z",
          "iopub.execute_input": "2024-07-26T20:05:57.629328Z",
          "iopub.status.idle": "2024-07-26T20:05:57.680935Z",
          "shell.execute_reply.started": "2024-07-26T20:05:57.629292Z",
          "shell.execute_reply": "2024-07-26T20:05:57.679997Z"
        },
        "trusted": true,
        "id": "OQsjT3YgaQmp"
      },
      "execution_count": 26,
      "outputs": []
    },
    {
      "cell_type": "code",
      "source": [
        "df_encoded_train = pd.DataFrame(encoded_train,columns=OHE_entity_fit.categories_[0])\n",
        "df_encoded_val =pd.DataFrame(encoded_val,columns=OHE_entity_fit.categories_[0])"
      ],
      "metadata": {
        "execution": {
          "iopub.status.busy": "2024-07-26T20:05:58.14959Z",
          "iopub.execute_input": "2024-07-26T20:05:58.149954Z",
          "iopub.status.idle": "2024-07-26T20:05:58.155627Z",
          "shell.execute_reply.started": "2024-07-26T20:05:58.149927Z",
          "shell.execute_reply": "2024-07-26T20:05:58.154427Z"
        },
        "trusted": true,
        "id": "AaqesQ8WaQmp"
      },
      "execution_count": 27,
      "outputs": []
    },
    {
      "cell_type": "code",
      "source": [
        "train_data_ = pd.concat([train_data_,df_encoded_train], axis=1)\n",
        "val_data_ = pd.concat([val_data_,df_encoded_val ], axis=1)"
      ],
      "metadata": {
        "execution": {
          "iopub.status.busy": "2024-07-26T20:05:58.770656Z",
          "iopub.execute_input": "2024-07-26T20:05:58.771046Z",
          "iopub.status.idle": "2024-07-26T20:05:58.803066Z",
          "shell.execute_reply.started": "2024-07-26T20:05:58.771016Z",
          "shell.execute_reply": "2024-07-26T20:05:58.801848Z"
        },
        "trusted": true,
        "id": "VNOtBMfEaQmp"
      },
      "execution_count": 28,
      "outputs": []
    },
    {
      "cell_type": "code",
      "source": [
        "train_data_.head(2)"
      ],
      "metadata": {
        "execution": {
          "iopub.status.busy": "2024-07-26T20:06:01.01Z",
          "iopub.execute_input": "2024-07-26T20:06:01.010402Z",
          "iopub.status.idle": "2024-07-26T20:06:01.037592Z",
          "shell.execute_reply.started": "2024-07-26T20:06:01.010373Z",
          "shell.execute_reply": "2024-07-26T20:06:01.036446Z"
        },
        "trusted": true,
        "id": "yQ5DR-LOaQmp",
        "outputId": "d0d73d89-3d50-4bdc-b11a-cb0481b4b6f6",
        "colab": {
          "base_uri": "https://localhost:8080/",
          "height": 335
        }
      },
      "execution_count": 29,
      "outputs": [
        {
          "output_type": "execute_result",
          "data": {
            "text/plain": [
              "        entity                                      Tweet content  Amazon  \\\n",
              "0  Borderlands  im getting on borderlands and i will murder yo...     0.0   \n",
              "1  Borderlands  I am coming to the borders and I will kill you...     0.0   \n",
              "\n",
              "   ApexLegends  AssassinsCreed  Battlefield  Borderlands  CS-GO  CallOfDuty  \\\n",
              "0          0.0             0.0          0.0          1.0    0.0         0.0   \n",
              "1          0.0             0.0          0.0          1.0    0.0         0.0   \n",
              "\n",
              "   CallOfDutyBlackopsColdWar  ...  Overwatch  PlayStation5(PS5)  \\\n",
              "0                        0.0  ...        0.0                0.0   \n",
              "1                        0.0  ...        0.0                0.0   \n",
              "\n",
              "   PlayerUnknownsBattlegrounds(PUBG)  RedDeadRedemption(RDR)  \\\n",
              "0                                0.0                     0.0   \n",
              "1                                0.0                     0.0   \n",
              "\n",
              "   TomClancysGhostRecon  TomClancysRainbowSix  Verizon  WorldOfCraft  \\\n",
              "0                   0.0                   0.0      0.0           0.0   \n",
              "1                   0.0                   0.0      0.0           0.0   \n",
              "\n",
              "   Xbox(Xseries)  johnson&johnson  \n",
              "0            0.0              0.0  \n",
              "1            0.0              0.0  \n",
              "\n",
              "[2 rows x 34 columns]"
            ],
            "text/html": [
              "\n",
              "  <div id=\"df-c57031a1-5380-4b79-a99d-9abc08b8d6d0\" class=\"colab-df-container\">\n",
              "    <div>\n",
              "<style scoped>\n",
              "    .dataframe tbody tr th:only-of-type {\n",
              "        vertical-align: middle;\n",
              "    }\n",
              "\n",
              "    .dataframe tbody tr th {\n",
              "        vertical-align: top;\n",
              "    }\n",
              "\n",
              "    .dataframe thead th {\n",
              "        text-align: right;\n",
              "    }\n",
              "</style>\n",
              "<table border=\"1\" class=\"dataframe\">\n",
              "  <thead>\n",
              "    <tr style=\"text-align: right;\">\n",
              "      <th></th>\n",
              "      <th>entity</th>\n",
              "      <th>Tweet content</th>\n",
              "      <th>Amazon</th>\n",
              "      <th>ApexLegends</th>\n",
              "      <th>AssassinsCreed</th>\n",
              "      <th>Battlefield</th>\n",
              "      <th>Borderlands</th>\n",
              "      <th>CS-GO</th>\n",
              "      <th>CallOfDuty</th>\n",
              "      <th>CallOfDutyBlackopsColdWar</th>\n",
              "      <th>...</th>\n",
              "      <th>Overwatch</th>\n",
              "      <th>PlayStation5(PS5)</th>\n",
              "      <th>PlayerUnknownsBattlegrounds(PUBG)</th>\n",
              "      <th>RedDeadRedemption(RDR)</th>\n",
              "      <th>TomClancysGhostRecon</th>\n",
              "      <th>TomClancysRainbowSix</th>\n",
              "      <th>Verizon</th>\n",
              "      <th>WorldOfCraft</th>\n",
              "      <th>Xbox(Xseries)</th>\n",
              "      <th>johnson&amp;johnson</th>\n",
              "    </tr>\n",
              "  </thead>\n",
              "  <tbody>\n",
              "    <tr>\n",
              "      <th>0</th>\n",
              "      <td>Borderlands</td>\n",
              "      <td>im getting on borderlands and i will murder yo...</td>\n",
              "      <td>0.0</td>\n",
              "      <td>0.0</td>\n",
              "      <td>0.0</td>\n",
              "      <td>0.0</td>\n",
              "      <td>1.0</td>\n",
              "      <td>0.0</td>\n",
              "      <td>0.0</td>\n",
              "      <td>0.0</td>\n",
              "      <td>...</td>\n",
              "      <td>0.0</td>\n",
              "      <td>0.0</td>\n",
              "      <td>0.0</td>\n",
              "      <td>0.0</td>\n",
              "      <td>0.0</td>\n",
              "      <td>0.0</td>\n",
              "      <td>0.0</td>\n",
              "      <td>0.0</td>\n",
              "      <td>0.0</td>\n",
              "      <td>0.0</td>\n",
              "    </tr>\n",
              "    <tr>\n",
              "      <th>1</th>\n",
              "      <td>Borderlands</td>\n",
              "      <td>I am coming to the borders and I will kill you...</td>\n",
              "      <td>0.0</td>\n",
              "      <td>0.0</td>\n",
              "      <td>0.0</td>\n",
              "      <td>0.0</td>\n",
              "      <td>1.0</td>\n",
              "      <td>0.0</td>\n",
              "      <td>0.0</td>\n",
              "      <td>0.0</td>\n",
              "      <td>...</td>\n",
              "      <td>0.0</td>\n",
              "      <td>0.0</td>\n",
              "      <td>0.0</td>\n",
              "      <td>0.0</td>\n",
              "      <td>0.0</td>\n",
              "      <td>0.0</td>\n",
              "      <td>0.0</td>\n",
              "      <td>0.0</td>\n",
              "      <td>0.0</td>\n",
              "      <td>0.0</td>\n",
              "    </tr>\n",
              "  </tbody>\n",
              "</table>\n",
              "<p>2 rows × 34 columns</p>\n",
              "</div>\n",
              "    <div class=\"colab-df-buttons\">\n",
              "\n",
              "  <div class=\"colab-df-container\">\n",
              "    <button class=\"colab-df-convert\" onclick=\"convertToInteractive('df-c57031a1-5380-4b79-a99d-9abc08b8d6d0')\"\n",
              "            title=\"Convert this dataframe to an interactive table.\"\n",
              "            style=\"display:none;\">\n",
              "\n",
              "  <svg xmlns=\"http://www.w3.org/2000/svg\" height=\"24px\" viewBox=\"0 -960 960 960\">\n",
              "    <path d=\"M120-120v-720h720v720H120Zm60-500h600v-160H180v160Zm220 220h160v-160H400v160Zm0 220h160v-160H400v160ZM180-400h160v-160H180v160Zm440 0h160v-160H620v160ZM180-180h160v-160H180v160Zm440 0h160v-160H620v160Z\"/>\n",
              "  </svg>\n",
              "    </button>\n",
              "\n",
              "  <style>\n",
              "    .colab-df-container {\n",
              "      display:flex;\n",
              "      gap: 12px;\n",
              "    }\n",
              "\n",
              "    .colab-df-convert {\n",
              "      background-color: #E8F0FE;\n",
              "      border: none;\n",
              "      border-radius: 50%;\n",
              "      cursor: pointer;\n",
              "      display: none;\n",
              "      fill: #1967D2;\n",
              "      height: 32px;\n",
              "      padding: 0 0 0 0;\n",
              "      width: 32px;\n",
              "    }\n",
              "\n",
              "    .colab-df-convert:hover {\n",
              "      background-color: #E2EBFA;\n",
              "      box-shadow: 0px 1px 2px rgba(60, 64, 67, 0.3), 0px 1px 3px 1px rgba(60, 64, 67, 0.15);\n",
              "      fill: #174EA6;\n",
              "    }\n",
              "\n",
              "    .colab-df-buttons div {\n",
              "      margin-bottom: 4px;\n",
              "    }\n",
              "\n",
              "    [theme=dark] .colab-df-convert {\n",
              "      background-color: #3B4455;\n",
              "      fill: #D2E3FC;\n",
              "    }\n",
              "\n",
              "    [theme=dark] .colab-df-convert:hover {\n",
              "      background-color: #434B5C;\n",
              "      box-shadow: 0px 1px 3px 1px rgba(0, 0, 0, 0.15);\n",
              "      filter: drop-shadow(0px 1px 2px rgba(0, 0, 0, 0.3));\n",
              "      fill: #FFFFFF;\n",
              "    }\n",
              "  </style>\n",
              "\n",
              "    <script>\n",
              "      const buttonEl =\n",
              "        document.querySelector('#df-c57031a1-5380-4b79-a99d-9abc08b8d6d0 button.colab-df-convert');\n",
              "      buttonEl.style.display =\n",
              "        google.colab.kernel.accessAllowed ? 'block' : 'none';\n",
              "\n",
              "      async function convertToInteractive(key) {\n",
              "        const element = document.querySelector('#df-c57031a1-5380-4b79-a99d-9abc08b8d6d0');\n",
              "        const dataTable =\n",
              "          await google.colab.kernel.invokeFunction('convertToInteractive',\n",
              "                                                    [key], {});\n",
              "        if (!dataTable) return;\n",
              "\n",
              "        const docLinkHtml = 'Like what you see? Visit the ' +\n",
              "          '<a target=\"_blank\" href=https://colab.research.google.com/notebooks/data_table.ipynb>data table notebook</a>'\n",
              "          + ' to learn more about interactive tables.';\n",
              "        element.innerHTML = '';\n",
              "        dataTable['output_type'] = 'display_data';\n",
              "        await google.colab.output.renderOutput(dataTable, element);\n",
              "        const docLink = document.createElement('div');\n",
              "        docLink.innerHTML = docLinkHtml;\n",
              "        element.appendChild(docLink);\n",
              "      }\n",
              "    </script>\n",
              "  </div>\n",
              "\n",
              "\n",
              "<div id=\"df-d914aa8d-c261-4c6f-b80c-78ddb162454c\">\n",
              "  <button class=\"colab-df-quickchart\" onclick=\"quickchart('df-d914aa8d-c261-4c6f-b80c-78ddb162454c')\"\n",
              "            title=\"Suggest charts\"\n",
              "            style=\"display:none;\">\n",
              "\n",
              "<svg xmlns=\"http://www.w3.org/2000/svg\" height=\"24px\"viewBox=\"0 0 24 24\"\n",
              "     width=\"24px\">\n",
              "    <g>\n",
              "        <path d=\"M19 3H5c-1.1 0-2 .9-2 2v14c0 1.1.9 2 2 2h14c1.1 0 2-.9 2-2V5c0-1.1-.9-2-2-2zM9 17H7v-7h2v7zm4 0h-2V7h2v10zm4 0h-2v-4h2v4z\"/>\n",
              "    </g>\n",
              "</svg>\n",
              "  </button>\n",
              "\n",
              "<style>\n",
              "  .colab-df-quickchart {\n",
              "      --bg-color: #E8F0FE;\n",
              "      --fill-color: #1967D2;\n",
              "      --hover-bg-color: #E2EBFA;\n",
              "      --hover-fill-color: #174EA6;\n",
              "      --disabled-fill-color: #AAA;\n",
              "      --disabled-bg-color: #DDD;\n",
              "  }\n",
              "\n",
              "  [theme=dark] .colab-df-quickchart {\n",
              "      --bg-color: #3B4455;\n",
              "      --fill-color: #D2E3FC;\n",
              "      --hover-bg-color: #434B5C;\n",
              "      --hover-fill-color: #FFFFFF;\n",
              "      --disabled-bg-color: #3B4455;\n",
              "      --disabled-fill-color: #666;\n",
              "  }\n",
              "\n",
              "  .colab-df-quickchart {\n",
              "    background-color: var(--bg-color);\n",
              "    border: none;\n",
              "    border-radius: 50%;\n",
              "    cursor: pointer;\n",
              "    display: none;\n",
              "    fill: var(--fill-color);\n",
              "    height: 32px;\n",
              "    padding: 0;\n",
              "    width: 32px;\n",
              "  }\n",
              "\n",
              "  .colab-df-quickchart:hover {\n",
              "    background-color: var(--hover-bg-color);\n",
              "    box-shadow: 0 1px 2px rgba(60, 64, 67, 0.3), 0 1px 3px 1px rgba(60, 64, 67, 0.15);\n",
              "    fill: var(--button-hover-fill-color);\n",
              "  }\n",
              "\n",
              "  .colab-df-quickchart-complete:disabled,\n",
              "  .colab-df-quickchart-complete:disabled:hover {\n",
              "    background-color: var(--disabled-bg-color);\n",
              "    fill: var(--disabled-fill-color);\n",
              "    box-shadow: none;\n",
              "  }\n",
              "\n",
              "  .colab-df-spinner {\n",
              "    border: 2px solid var(--fill-color);\n",
              "    border-color: transparent;\n",
              "    border-bottom-color: var(--fill-color);\n",
              "    animation:\n",
              "      spin 1s steps(1) infinite;\n",
              "  }\n",
              "\n",
              "  @keyframes spin {\n",
              "    0% {\n",
              "      border-color: transparent;\n",
              "      border-bottom-color: var(--fill-color);\n",
              "      border-left-color: var(--fill-color);\n",
              "    }\n",
              "    20% {\n",
              "      border-color: transparent;\n",
              "      border-left-color: var(--fill-color);\n",
              "      border-top-color: var(--fill-color);\n",
              "    }\n",
              "    30% {\n",
              "      border-color: transparent;\n",
              "      border-left-color: var(--fill-color);\n",
              "      border-top-color: var(--fill-color);\n",
              "      border-right-color: var(--fill-color);\n",
              "    }\n",
              "    40% {\n",
              "      border-color: transparent;\n",
              "      border-right-color: var(--fill-color);\n",
              "      border-top-color: var(--fill-color);\n",
              "    }\n",
              "    60% {\n",
              "      border-color: transparent;\n",
              "      border-right-color: var(--fill-color);\n",
              "    }\n",
              "    80% {\n",
              "      border-color: transparent;\n",
              "      border-right-color: var(--fill-color);\n",
              "      border-bottom-color: var(--fill-color);\n",
              "    }\n",
              "    90% {\n",
              "      border-color: transparent;\n",
              "      border-bottom-color: var(--fill-color);\n",
              "    }\n",
              "  }\n",
              "</style>\n",
              "\n",
              "  <script>\n",
              "    async function quickchart(key) {\n",
              "      const quickchartButtonEl =\n",
              "        document.querySelector('#' + key + ' button');\n",
              "      quickchartButtonEl.disabled = true;  // To prevent multiple clicks.\n",
              "      quickchartButtonEl.classList.add('colab-df-spinner');\n",
              "      try {\n",
              "        const charts = await google.colab.kernel.invokeFunction(\n",
              "            'suggestCharts', [key], {});\n",
              "      } catch (error) {\n",
              "        console.error('Error during call to suggestCharts:', error);\n",
              "      }\n",
              "      quickchartButtonEl.classList.remove('colab-df-spinner');\n",
              "      quickchartButtonEl.classList.add('colab-df-quickchart-complete');\n",
              "    }\n",
              "    (() => {\n",
              "      let quickchartButtonEl =\n",
              "        document.querySelector('#df-d914aa8d-c261-4c6f-b80c-78ddb162454c button');\n",
              "      quickchartButtonEl.style.display =\n",
              "        google.colab.kernel.accessAllowed ? 'block' : 'none';\n",
              "    })();\n",
              "  </script>\n",
              "</div>\n",
              "\n",
              "    </div>\n",
              "  </div>\n"
            ],
            "application/vnd.google.colaboratory.intrinsic+json": {
              "type": "dataframe",
              "variable_name": "train_data_"
            }
          },
          "metadata": {},
          "execution_count": 29
        }
      ]
    },
    {
      "cell_type": "code",
      "source": [
        "train_data_ = train_data_.drop(\"entity\",axis=1)\n",
        "val_data_ = val_data_.drop(\"entity\",axis=1)"
      ],
      "metadata": {
        "execution": {
          "iopub.status.busy": "2024-07-26T20:06:01.291131Z",
          "iopub.execute_input": "2024-07-26T20:06:01.29208Z",
          "iopub.status.idle": "2024-07-26T20:06:01.306087Z",
          "shell.execute_reply.started": "2024-07-26T20:06:01.292034Z",
          "shell.execute_reply": "2024-07-26T20:06:01.305004Z"
        },
        "trusted": true,
        "id": "hE7ykGV_aQmp"
      },
      "execution_count": 30,
      "outputs": []
    },
    {
      "cell_type": "code",
      "source": [
        "train_data_.head(2)"
      ],
      "metadata": {
        "execution": {
          "iopub.status.busy": "2024-07-26T20:06:02.808906Z",
          "iopub.execute_input": "2024-07-26T20:06:02.809335Z",
          "iopub.status.idle": "2024-07-26T20:06:02.839314Z",
          "shell.execute_reply.started": "2024-07-26T20:06:02.809299Z",
          "shell.execute_reply": "2024-07-26T20:06:02.838051Z"
        },
        "trusted": true,
        "id": "NLwsx9htaQmp",
        "outputId": "932f9f34-8609-48be-b11f-77abee602689",
        "colab": {
          "base_uri": "https://localhost:8080/",
          "height": 335
        }
      },
      "execution_count": 31,
      "outputs": [
        {
          "output_type": "execute_result",
          "data": {
            "text/plain": [
              "                                       Tweet content  Amazon  ApexLegends  \\\n",
              "0  im getting on borderlands and i will murder yo...     0.0          0.0   \n",
              "1  I am coming to the borders and I will kill you...     0.0          0.0   \n",
              "\n",
              "   AssassinsCreed  Battlefield  Borderlands  CS-GO  CallOfDuty  \\\n",
              "0             0.0          0.0          1.0    0.0         0.0   \n",
              "1             0.0          0.0          1.0    0.0         0.0   \n",
              "\n",
              "   CallOfDutyBlackopsColdWar  Cyberpunk2077  ...  Overwatch  \\\n",
              "0                        0.0            0.0  ...        0.0   \n",
              "1                        0.0            0.0  ...        0.0   \n",
              "\n",
              "   PlayStation5(PS5)  PlayerUnknownsBattlegrounds(PUBG)  \\\n",
              "0                0.0                                0.0   \n",
              "1                0.0                                0.0   \n",
              "\n",
              "   RedDeadRedemption(RDR)  TomClancysGhostRecon  TomClancysRainbowSix  \\\n",
              "0                     0.0                   0.0                   0.0   \n",
              "1                     0.0                   0.0                   0.0   \n",
              "\n",
              "   Verizon  WorldOfCraft  Xbox(Xseries)  johnson&johnson  \n",
              "0      0.0           0.0            0.0              0.0  \n",
              "1      0.0           0.0            0.0              0.0  \n",
              "\n",
              "[2 rows x 33 columns]"
            ],
            "text/html": [
              "\n",
              "  <div id=\"df-cc7bea5d-942a-422f-add1-1b28464de163\" class=\"colab-df-container\">\n",
              "    <div>\n",
              "<style scoped>\n",
              "    .dataframe tbody tr th:only-of-type {\n",
              "        vertical-align: middle;\n",
              "    }\n",
              "\n",
              "    .dataframe tbody tr th {\n",
              "        vertical-align: top;\n",
              "    }\n",
              "\n",
              "    .dataframe thead th {\n",
              "        text-align: right;\n",
              "    }\n",
              "</style>\n",
              "<table border=\"1\" class=\"dataframe\">\n",
              "  <thead>\n",
              "    <tr style=\"text-align: right;\">\n",
              "      <th></th>\n",
              "      <th>Tweet content</th>\n",
              "      <th>Amazon</th>\n",
              "      <th>ApexLegends</th>\n",
              "      <th>AssassinsCreed</th>\n",
              "      <th>Battlefield</th>\n",
              "      <th>Borderlands</th>\n",
              "      <th>CS-GO</th>\n",
              "      <th>CallOfDuty</th>\n",
              "      <th>CallOfDutyBlackopsColdWar</th>\n",
              "      <th>Cyberpunk2077</th>\n",
              "      <th>...</th>\n",
              "      <th>Overwatch</th>\n",
              "      <th>PlayStation5(PS5)</th>\n",
              "      <th>PlayerUnknownsBattlegrounds(PUBG)</th>\n",
              "      <th>RedDeadRedemption(RDR)</th>\n",
              "      <th>TomClancysGhostRecon</th>\n",
              "      <th>TomClancysRainbowSix</th>\n",
              "      <th>Verizon</th>\n",
              "      <th>WorldOfCraft</th>\n",
              "      <th>Xbox(Xseries)</th>\n",
              "      <th>johnson&amp;johnson</th>\n",
              "    </tr>\n",
              "  </thead>\n",
              "  <tbody>\n",
              "    <tr>\n",
              "      <th>0</th>\n",
              "      <td>im getting on borderlands and i will murder yo...</td>\n",
              "      <td>0.0</td>\n",
              "      <td>0.0</td>\n",
              "      <td>0.0</td>\n",
              "      <td>0.0</td>\n",
              "      <td>1.0</td>\n",
              "      <td>0.0</td>\n",
              "      <td>0.0</td>\n",
              "      <td>0.0</td>\n",
              "      <td>0.0</td>\n",
              "      <td>...</td>\n",
              "      <td>0.0</td>\n",
              "      <td>0.0</td>\n",
              "      <td>0.0</td>\n",
              "      <td>0.0</td>\n",
              "      <td>0.0</td>\n",
              "      <td>0.0</td>\n",
              "      <td>0.0</td>\n",
              "      <td>0.0</td>\n",
              "      <td>0.0</td>\n",
              "      <td>0.0</td>\n",
              "    </tr>\n",
              "    <tr>\n",
              "      <th>1</th>\n",
              "      <td>I am coming to the borders and I will kill you...</td>\n",
              "      <td>0.0</td>\n",
              "      <td>0.0</td>\n",
              "      <td>0.0</td>\n",
              "      <td>0.0</td>\n",
              "      <td>1.0</td>\n",
              "      <td>0.0</td>\n",
              "      <td>0.0</td>\n",
              "      <td>0.0</td>\n",
              "      <td>0.0</td>\n",
              "      <td>...</td>\n",
              "      <td>0.0</td>\n",
              "      <td>0.0</td>\n",
              "      <td>0.0</td>\n",
              "      <td>0.0</td>\n",
              "      <td>0.0</td>\n",
              "      <td>0.0</td>\n",
              "      <td>0.0</td>\n",
              "      <td>0.0</td>\n",
              "      <td>0.0</td>\n",
              "      <td>0.0</td>\n",
              "    </tr>\n",
              "  </tbody>\n",
              "</table>\n",
              "<p>2 rows × 33 columns</p>\n",
              "</div>\n",
              "    <div class=\"colab-df-buttons\">\n",
              "\n",
              "  <div class=\"colab-df-container\">\n",
              "    <button class=\"colab-df-convert\" onclick=\"convertToInteractive('df-cc7bea5d-942a-422f-add1-1b28464de163')\"\n",
              "            title=\"Convert this dataframe to an interactive table.\"\n",
              "            style=\"display:none;\">\n",
              "\n",
              "  <svg xmlns=\"http://www.w3.org/2000/svg\" height=\"24px\" viewBox=\"0 -960 960 960\">\n",
              "    <path d=\"M120-120v-720h720v720H120Zm60-500h600v-160H180v160Zm220 220h160v-160H400v160Zm0 220h160v-160H400v160ZM180-400h160v-160H180v160Zm440 0h160v-160H620v160ZM180-180h160v-160H180v160Zm440 0h160v-160H620v160Z\"/>\n",
              "  </svg>\n",
              "    </button>\n",
              "\n",
              "  <style>\n",
              "    .colab-df-container {\n",
              "      display:flex;\n",
              "      gap: 12px;\n",
              "    }\n",
              "\n",
              "    .colab-df-convert {\n",
              "      background-color: #E8F0FE;\n",
              "      border: none;\n",
              "      border-radius: 50%;\n",
              "      cursor: pointer;\n",
              "      display: none;\n",
              "      fill: #1967D2;\n",
              "      height: 32px;\n",
              "      padding: 0 0 0 0;\n",
              "      width: 32px;\n",
              "    }\n",
              "\n",
              "    .colab-df-convert:hover {\n",
              "      background-color: #E2EBFA;\n",
              "      box-shadow: 0px 1px 2px rgba(60, 64, 67, 0.3), 0px 1px 3px 1px rgba(60, 64, 67, 0.15);\n",
              "      fill: #174EA6;\n",
              "    }\n",
              "\n",
              "    .colab-df-buttons div {\n",
              "      margin-bottom: 4px;\n",
              "    }\n",
              "\n",
              "    [theme=dark] .colab-df-convert {\n",
              "      background-color: #3B4455;\n",
              "      fill: #D2E3FC;\n",
              "    }\n",
              "\n",
              "    [theme=dark] .colab-df-convert:hover {\n",
              "      background-color: #434B5C;\n",
              "      box-shadow: 0px 1px 3px 1px rgba(0, 0, 0, 0.15);\n",
              "      filter: drop-shadow(0px 1px 2px rgba(0, 0, 0, 0.3));\n",
              "      fill: #FFFFFF;\n",
              "    }\n",
              "  </style>\n",
              "\n",
              "    <script>\n",
              "      const buttonEl =\n",
              "        document.querySelector('#df-cc7bea5d-942a-422f-add1-1b28464de163 button.colab-df-convert');\n",
              "      buttonEl.style.display =\n",
              "        google.colab.kernel.accessAllowed ? 'block' : 'none';\n",
              "\n",
              "      async function convertToInteractive(key) {\n",
              "        const element = document.querySelector('#df-cc7bea5d-942a-422f-add1-1b28464de163');\n",
              "        const dataTable =\n",
              "          await google.colab.kernel.invokeFunction('convertToInteractive',\n",
              "                                                    [key], {});\n",
              "        if (!dataTable) return;\n",
              "\n",
              "        const docLinkHtml = 'Like what you see? Visit the ' +\n",
              "          '<a target=\"_blank\" href=https://colab.research.google.com/notebooks/data_table.ipynb>data table notebook</a>'\n",
              "          + ' to learn more about interactive tables.';\n",
              "        element.innerHTML = '';\n",
              "        dataTable['output_type'] = 'display_data';\n",
              "        await google.colab.output.renderOutput(dataTable, element);\n",
              "        const docLink = document.createElement('div');\n",
              "        docLink.innerHTML = docLinkHtml;\n",
              "        element.appendChild(docLink);\n",
              "      }\n",
              "    </script>\n",
              "  </div>\n",
              "\n",
              "\n",
              "<div id=\"df-0658082b-5ac8-40ab-a355-d7e40b6a9847\">\n",
              "  <button class=\"colab-df-quickchart\" onclick=\"quickchart('df-0658082b-5ac8-40ab-a355-d7e40b6a9847')\"\n",
              "            title=\"Suggest charts\"\n",
              "            style=\"display:none;\">\n",
              "\n",
              "<svg xmlns=\"http://www.w3.org/2000/svg\" height=\"24px\"viewBox=\"0 0 24 24\"\n",
              "     width=\"24px\">\n",
              "    <g>\n",
              "        <path d=\"M19 3H5c-1.1 0-2 .9-2 2v14c0 1.1.9 2 2 2h14c1.1 0 2-.9 2-2V5c0-1.1-.9-2-2-2zM9 17H7v-7h2v7zm4 0h-2V7h2v10zm4 0h-2v-4h2v4z\"/>\n",
              "    </g>\n",
              "</svg>\n",
              "  </button>\n",
              "\n",
              "<style>\n",
              "  .colab-df-quickchart {\n",
              "      --bg-color: #E8F0FE;\n",
              "      --fill-color: #1967D2;\n",
              "      --hover-bg-color: #E2EBFA;\n",
              "      --hover-fill-color: #174EA6;\n",
              "      --disabled-fill-color: #AAA;\n",
              "      --disabled-bg-color: #DDD;\n",
              "  }\n",
              "\n",
              "  [theme=dark] .colab-df-quickchart {\n",
              "      --bg-color: #3B4455;\n",
              "      --fill-color: #D2E3FC;\n",
              "      --hover-bg-color: #434B5C;\n",
              "      --hover-fill-color: #FFFFFF;\n",
              "      --disabled-bg-color: #3B4455;\n",
              "      --disabled-fill-color: #666;\n",
              "  }\n",
              "\n",
              "  .colab-df-quickchart {\n",
              "    background-color: var(--bg-color);\n",
              "    border: none;\n",
              "    border-radius: 50%;\n",
              "    cursor: pointer;\n",
              "    display: none;\n",
              "    fill: var(--fill-color);\n",
              "    height: 32px;\n",
              "    padding: 0;\n",
              "    width: 32px;\n",
              "  }\n",
              "\n",
              "  .colab-df-quickchart:hover {\n",
              "    background-color: var(--hover-bg-color);\n",
              "    box-shadow: 0 1px 2px rgba(60, 64, 67, 0.3), 0 1px 3px 1px rgba(60, 64, 67, 0.15);\n",
              "    fill: var(--button-hover-fill-color);\n",
              "  }\n",
              "\n",
              "  .colab-df-quickchart-complete:disabled,\n",
              "  .colab-df-quickchart-complete:disabled:hover {\n",
              "    background-color: var(--disabled-bg-color);\n",
              "    fill: var(--disabled-fill-color);\n",
              "    box-shadow: none;\n",
              "  }\n",
              "\n",
              "  .colab-df-spinner {\n",
              "    border: 2px solid var(--fill-color);\n",
              "    border-color: transparent;\n",
              "    border-bottom-color: var(--fill-color);\n",
              "    animation:\n",
              "      spin 1s steps(1) infinite;\n",
              "  }\n",
              "\n",
              "  @keyframes spin {\n",
              "    0% {\n",
              "      border-color: transparent;\n",
              "      border-bottom-color: var(--fill-color);\n",
              "      border-left-color: var(--fill-color);\n",
              "    }\n",
              "    20% {\n",
              "      border-color: transparent;\n",
              "      border-left-color: var(--fill-color);\n",
              "      border-top-color: var(--fill-color);\n",
              "    }\n",
              "    30% {\n",
              "      border-color: transparent;\n",
              "      border-left-color: var(--fill-color);\n",
              "      border-top-color: var(--fill-color);\n",
              "      border-right-color: var(--fill-color);\n",
              "    }\n",
              "    40% {\n",
              "      border-color: transparent;\n",
              "      border-right-color: var(--fill-color);\n",
              "      border-top-color: var(--fill-color);\n",
              "    }\n",
              "    60% {\n",
              "      border-color: transparent;\n",
              "      border-right-color: var(--fill-color);\n",
              "    }\n",
              "    80% {\n",
              "      border-color: transparent;\n",
              "      border-right-color: var(--fill-color);\n",
              "      border-bottom-color: var(--fill-color);\n",
              "    }\n",
              "    90% {\n",
              "      border-color: transparent;\n",
              "      border-bottom-color: var(--fill-color);\n",
              "    }\n",
              "  }\n",
              "</style>\n",
              "\n",
              "  <script>\n",
              "    async function quickchart(key) {\n",
              "      const quickchartButtonEl =\n",
              "        document.querySelector('#' + key + ' button');\n",
              "      quickchartButtonEl.disabled = true;  // To prevent multiple clicks.\n",
              "      quickchartButtonEl.classList.add('colab-df-spinner');\n",
              "      try {\n",
              "        const charts = await google.colab.kernel.invokeFunction(\n",
              "            'suggestCharts', [key], {});\n",
              "      } catch (error) {\n",
              "        console.error('Error during call to suggestCharts:', error);\n",
              "      }\n",
              "      quickchartButtonEl.classList.remove('colab-df-spinner');\n",
              "      quickchartButtonEl.classList.add('colab-df-quickchart-complete');\n",
              "    }\n",
              "    (() => {\n",
              "      let quickchartButtonEl =\n",
              "        document.querySelector('#df-0658082b-5ac8-40ab-a355-d7e40b6a9847 button');\n",
              "      quickchartButtonEl.style.display =\n",
              "        google.colab.kernel.accessAllowed ? 'block' : 'none';\n",
              "    })();\n",
              "  </script>\n",
              "</div>\n",
              "\n",
              "    </div>\n",
              "  </div>\n"
            ],
            "application/vnd.google.colaboratory.intrinsic+json": {
              "type": "dataframe",
              "variable_name": "train_data_"
            }
          },
          "metadata": {},
          "execution_count": 31
        }
      ]
    },
    {
      "cell_type": "markdown",
      "source": [
        "## I.02 Tweet content :"
      ],
      "metadata": {
        "id": "nzMCS9IYaQmq"
      }
    },
    {
      "cell_type": "markdown",
      "source": [
        "### I.02.a Tokenization :"
      ],
      "metadata": {
        "id": "0HxAVLlQaQmq"
      }
    },
    {
      "cell_type": "code",
      "source": [
        "len(train_data_)"
      ],
      "metadata": {
        "execution": {
          "iopub.status.busy": "2024-07-26T20:08:54.367861Z",
          "iopub.execute_input": "2024-07-26T20:08:54.368326Z",
          "iopub.status.idle": "2024-07-26T20:08:54.376079Z",
          "shell.execute_reply.started": "2024-07-26T20:08:54.368287Z",
          "shell.execute_reply": "2024-07-26T20:08:54.374836Z"
        },
        "trusted": true,
        "id": "BpIekP8kaQmv",
        "outputId": "ed79fa2f-0065-4709-8511-7a3a9d3e4cbb",
        "colab": {
          "base_uri": "https://localhost:8080/"
        }
      },
      "execution_count": 32,
      "outputs": [
        {
          "output_type": "execute_result",
          "data": {
            "text/plain": [
              "61121"
            ]
          },
          "metadata": {},
          "execution_count": 32
        }
      ]
    },
    {
      "cell_type": "code",
      "source": [
        "def token(data,col):\n",
        "    tokenized = []\n",
        "    cnt = 0\n",
        "    for sent in data[col]:\n",
        "        if not cnt%300:\n",
        "            clear_output(wait=True)\n",
        "            print(cnt*100/len(data))\n",
        "        tokenized.append(word_tokenize(sent))\n",
        "        cnt += 1\n",
        "    return tokenized"
      ],
      "metadata": {
        "execution": {
          "iopub.status.busy": "2024-07-26T20:29:25.784872Z",
          "iopub.execute_input": "2024-07-26T20:29:25.785294Z",
          "iopub.status.idle": "2024-07-26T20:29:25.791522Z",
          "shell.execute_reply.started": "2024-07-26T20:29:25.78523Z",
          "shell.execute_reply": "2024-07-26T20:29:25.790358Z"
        },
        "trusted": true,
        "id": "zqC4Na38aQmv"
      },
      "execution_count": 33,
      "outputs": []
    },
    {
      "cell_type": "code",
      "source": [
        "train_data_01 = token(train_data_,\"Tweet content\")\n",
        "val_data_01   = token(val_data_,\"Tweet content\")"
      ],
      "metadata": {
        "execution": {
          "iopub.status.busy": "2024-07-26T20:29:33.775223Z",
          "iopub.execute_input": "2024-07-26T20:29:33.776102Z",
          "iopub.status.idle": "2024-07-26T20:29:51.03246Z",
          "shell.execute_reply.started": "2024-07-26T20:29:33.776056Z",
          "shell.execute_reply": "2024-07-26T20:29:51.031342Z"
        },
        "trusted": true,
        "id": "qzo5gGPqaQmv",
        "outputId": "2873466b-9992-471f-8c03-27b72ac14542",
        "colab": {
          "base_uri": "https://localhost:8080/"
        }
      },
      "execution_count": 34,
      "outputs": [
        {
          "output_type": "stream",
          "name": "stdout",
          "text": [
            "72.46376811594203\n"
          ]
        }
      ]
    },
    {
      "cell_type": "markdown",
      "source": [
        "### I.02.b Ponctoation  :"
      ],
      "metadata": {
        "id": "_xgglFPJaQmv"
      }
    },
    {
      "cell_type": "code",
      "source": [
        "ponc = \"\\\"#%&'()*+, -./:;<=>@[\\]^_`{|}~   ...  ’'''“.``¤`\"\n",
        "\n",
        "def del_ponc(data):\n",
        "    lists = []\n",
        "    cnt = 0\n",
        "    for sent in data:\n",
        "        if not cnt%300:\n",
        "            clear_output(wait=True)\n",
        "            print(cnt*100/len(data))\n",
        "        sub_list = []\n",
        "        for word in sent:\n",
        "            if word not in ponc:\n",
        "                sub_list.append(word)\n",
        "        lists.append(sub_list)\n",
        "        cnt += 1\n",
        "    return lists"
      ],
      "metadata": {
        "execution": {
          "iopub.status.busy": "2024-07-26T21:58:22.292635Z",
          "iopub.execute_input": "2024-07-26T21:58:22.293012Z",
          "iopub.status.idle": "2024-07-26T21:58:22.299499Z",
          "shell.execute_reply.started": "2024-07-26T21:58:22.292984Z",
          "shell.execute_reply": "2024-07-26T21:58:22.298338Z"
        },
        "trusted": true,
        "id": "WHAaPSVzaQmv"
      },
      "execution_count": 35,
      "outputs": []
    },
    {
      "cell_type": "code",
      "source": [
        "train_data_02 = del_ponc(train_data_01)\n",
        "val_data_02   = del_ponc(val_data_01)"
      ],
      "metadata": {
        "execution": {
          "iopub.status.busy": "2024-07-26T21:58:22.853928Z",
          "iopub.execute_input": "2024-07-26T21:58:22.85434Z",
          "iopub.status.idle": "2024-07-26T21:58:23.621792Z",
          "shell.execute_reply.started": "2024-07-26T21:58:22.854309Z",
          "shell.execute_reply": "2024-07-26T21:58:23.620785Z"
        },
        "trusted": true,
        "id": "x1ebKubbaQmw",
        "outputId": "9b8fa433-ed2c-4f37-cf77-efb60ef12150",
        "colab": {
          "base_uri": "https://localhost:8080/"
        }
      },
      "execution_count": 36,
      "outputs": [
        {
          "output_type": "stream",
          "name": "stdout",
          "text": [
            "72.46376811594203\n"
          ]
        }
      ]
    },
    {
      "cell_type": "code",
      "source": [
        "print(train_data_02[:3])"
      ],
      "metadata": {
        "execution": {
          "iopub.status.busy": "2024-07-26T21:58:23.857105Z",
          "iopub.execute_input": "2024-07-26T21:58:23.858025Z",
          "iopub.status.idle": "2024-07-26T21:58:23.863297Z",
          "shell.execute_reply.started": "2024-07-26T21:58:23.857989Z",
          "shell.execute_reply": "2024-07-26T21:58:23.862026Z"
        },
        "trusted": true,
        "id": "hjdyIx60aQmw",
        "outputId": "1c6968a8-6521-47e5-ac48-824c038e16a9",
        "colab": {
          "base_uri": "https://localhost:8080/"
        }
      },
      "execution_count": 37,
      "outputs": [
        {
          "output_type": "stream",
          "name": "stdout",
          "text": [
            "[['im', 'getting', 'on', 'borderlands', 'and', 'i', 'will', 'murder', 'you', 'all'], ['I', 'am', 'coming', 'to', 'the', 'borders', 'and', 'I', 'will', 'kill', 'you', 'all'], ['im', 'getting', 'on', 'borderlands', 'and', 'i', 'will', 'kill', 'you', 'all']]\n"
          ]
        }
      ]
    },
    {
      "cell_type": "markdown",
      "source": [
        "### I.02.c Lower  :"
      ],
      "metadata": {
        "id": "g7UrJ-URaQmw"
      }
    },
    {
      "cell_type": "code",
      "source": [
        "def lower(data):\n",
        "    lists = []\n",
        "    cnt = 0\n",
        "    for sent in data:\n",
        "        if not cnt%300:\n",
        "            clear_output(wait=True)\n",
        "            print(cnt*100/len(data))\n",
        "        sub_list = []\n",
        "        for word in sent:\n",
        "            sub_list.append(word.lower())\n",
        "        lists.append(sub_list)\n",
        "        cnt += 1\n",
        "    return lists"
      ],
      "metadata": {
        "execution": {
          "iopub.status.busy": "2024-07-26T21:58:25.343658Z",
          "iopub.execute_input": "2024-07-26T21:58:25.344334Z",
          "iopub.status.idle": "2024-07-26T21:58:25.350163Z",
          "shell.execute_reply.started": "2024-07-26T21:58:25.344299Z",
          "shell.execute_reply": "2024-07-26T21:58:25.349144Z"
        },
        "trusted": true,
        "id": "Glg5XZM1aQmx"
      },
      "execution_count": 38,
      "outputs": []
    },
    {
      "cell_type": "code",
      "source": [
        "train_data_03 = lower(train_data_02)\n",
        "val_data_03   = lower(val_data_02)"
      ],
      "metadata": {
        "execution": {
          "iopub.status.busy": "2024-07-26T21:58:25.558731Z",
          "iopub.execute_input": "2024-07-26T21:58:25.55919Z",
          "iopub.status.idle": "2024-07-26T21:58:26.80903Z",
          "shell.execute_reply.started": "2024-07-26T21:58:25.559157Z",
          "shell.execute_reply": "2024-07-26T21:58:26.807765Z"
        },
        "trusted": true,
        "id": "Iu4aiI71aQmx",
        "outputId": "11739b36-9eff-4329-d7e9-166cbcb2b00d",
        "colab": {
          "base_uri": "https://localhost:8080/"
        }
      },
      "execution_count": 39,
      "outputs": [
        {
          "output_type": "stream",
          "name": "stdout",
          "text": [
            "72.46376811594203\n"
          ]
        }
      ]
    },
    {
      "cell_type": "code",
      "source": [
        "print(train_data_03[:3])"
      ],
      "metadata": {
        "execution": {
          "iopub.status.busy": "2024-07-26T21:58:26.810895Z",
          "iopub.execute_input": "2024-07-26T21:58:26.811197Z",
          "iopub.status.idle": "2024-07-26T21:58:26.817371Z",
          "shell.execute_reply.started": "2024-07-26T21:58:26.811171Z",
          "shell.execute_reply": "2024-07-26T21:58:26.816181Z"
        },
        "trusted": true,
        "id": "3FQkSRHeaQmx",
        "outputId": "9f836373-6e25-4654-a4af-59c227c962c8",
        "colab": {
          "base_uri": "https://localhost:8080/"
        }
      },
      "execution_count": 40,
      "outputs": [
        {
          "output_type": "stream",
          "name": "stdout",
          "text": [
            "[['im', 'getting', 'on', 'borderlands', 'and', 'i', 'will', 'murder', 'you', 'all'], ['i', 'am', 'coming', 'to', 'the', 'borders', 'and', 'i', 'will', 'kill', 'you', 'all'], ['im', 'getting', 'on', 'borderlands', 'and', 'i', 'will', 'kill', 'you', 'all']]\n"
          ]
        }
      ]
    },
    {
      "cell_type": "markdown",
      "source": [
        "### I.02.d del_links  :"
      ],
      "metadata": {
        "id": "okyHNO-oaQmx"
      }
    },
    {
      "cell_type": "code",
      "source": [
        "pattern = r'[(http(s)?):\\/\\/(www\\.)?a-zA-Z0-9@:%._\\+~#=]{2,256}\\.[a-z]{2,6}\\b([-a-zA-Z0-9@:%_\\+.~#?&//=]*)'\n",
        "\n",
        "def del_links(data,patt):\n",
        "    lists = []\n",
        "    cnt = 0\n",
        "    for sent in data:\n",
        "        if not cnt%300:\n",
        "            clear_output(wait=True)\n",
        "            print(cnt*100/len(data))\n",
        "        sub_list = []\n",
        "        for word in sent:\n",
        "            if not re.search(patt,word):\n",
        "                sub_list.append(word)\n",
        "        lists.append(sub_list)\n",
        "        cnt += 1\n",
        "    return lists"
      ],
      "metadata": {
        "execution": {
          "iopub.status.busy": "2024-07-26T21:58:26.945935Z",
          "iopub.execute_input": "2024-07-26T21:58:26.946326Z",
          "iopub.status.idle": "2024-07-26T21:58:26.953549Z",
          "shell.execute_reply.started": "2024-07-26T21:58:26.946294Z",
          "shell.execute_reply": "2024-07-26T21:58:26.952115Z"
        },
        "trusted": true,
        "id": "t1peowjQaQmx"
      },
      "execution_count": 41,
      "outputs": []
    },
    {
      "cell_type": "code",
      "source": [
        "train_data_04 = del_links(train_data_03,pattern)\n",
        "val_data_04   = del_links(val_data_03,pattern)"
      ],
      "metadata": {
        "execution": {
          "iopub.status.busy": "2024-07-26T21:58:27.490084Z",
          "iopub.execute_input": "2024-07-26T21:58:27.491176Z",
          "iopub.status.idle": "2024-07-26T21:58:29.319781Z",
          "shell.execute_reply.started": "2024-07-26T21:58:27.491104Z",
          "shell.execute_reply": "2024-07-26T21:58:29.318877Z"
        },
        "trusted": true,
        "id": "sj1WYKVraQmy",
        "outputId": "18bb8a98-1f7b-4e3a-e21e-6b63ed6f969c",
        "colab": {
          "base_uri": "https://localhost:8080/"
        }
      },
      "execution_count": 42,
      "outputs": [
        {
          "output_type": "stream",
          "name": "stdout",
          "text": [
            "72.46376811594203\n"
          ]
        }
      ]
    },
    {
      "cell_type": "code",
      "source": [
        "print(val_data_04[:3])"
      ],
      "metadata": {
        "execution": {
          "iopub.status.busy": "2024-07-26T22:42:49.486282Z",
          "iopub.execute_input": "2024-07-26T22:42:49.486683Z",
          "iopub.status.idle": "2024-07-26T22:42:49.492311Z",
          "shell.execute_reply.started": "2024-07-26T22:42:49.48665Z",
          "shell.execute_reply": "2024-07-26T22:42:49.491233Z"
        },
        "trusted": true,
        "id": "3SSW32TMaQmy",
        "outputId": "8da5f653-4e23-4e37-c6cf-4d07bcc05a9e",
        "colab": {
          "base_uri": "https://localhost:8080/"
        }
      },
      "execution_count": 43,
      "outputs": [
        {
          "output_type": "stream",
          "name": "stdout",
          "text": [
            "[['bbc', 'news', 'amazon', 'boss', 'jeff', 'bezos', 'rejects', 'claims', 'company', 'acted', 'like', 'a', \"'drug\", 'dealer'], ['microsoft', 'why', 'do', 'i', 'pay', 'for', 'word', 'when', 'it', 'functions', 'so', 'poorly', 'on', 'my', 'samsungus', 'chromebook', '?', '🙄'], ['csgo', 'matchmaking', 'is', 'so', 'full', 'of', 'closet', 'hacking', 'it', \"'s\", 'a', 'truly', 'awful', 'game']]\n"
          ]
        }
      ]
    },
    {
      "cell_type": "markdown",
      "source": [
        "### I.02.e del_Stop_words :"
      ],
      "metadata": {
        "id": "Ef7G9I4zaQmy"
      }
    },
    {
      "cell_type": "code",
      "source": [
        "stop_word = stopwords.words('english')"
      ],
      "metadata": {
        "execution": {
          "iopub.status.busy": "2024-07-26T22:55:37.586559Z",
          "iopub.execute_input": "2024-07-26T22:55:37.586987Z",
          "iopub.status.idle": "2024-07-26T22:55:37.592887Z",
          "shell.execute_reply.started": "2024-07-26T22:55:37.586954Z",
          "shell.execute_reply": "2024-07-26T22:55:37.591559Z"
        },
        "trusted": true,
        "id": "oTi9EdV2aQmy"
      },
      "execution_count": 44,
      "outputs": []
    },
    {
      "cell_type": "code",
      "source": [
        "added_sw = [\"im\",\"n't\",\"'m\",\"'s\",\"e\"]\n",
        "for i in added_sw:\n",
        "    stop_word.append(i)"
      ],
      "metadata": {
        "execution": {
          "iopub.status.busy": "2024-07-26T22:55:37.834625Z",
          "iopub.execute_input": "2024-07-26T22:55:37.835024Z",
          "iopub.status.idle": "2024-07-26T22:55:37.841059Z",
          "shell.execute_reply.started": "2024-07-26T22:55:37.834994Z",
          "shell.execute_reply": "2024-07-26T22:55:37.839602Z"
        },
        "trusted": true,
        "id": "NJ4n8ywgaQmy"
      },
      "execution_count": 45,
      "outputs": []
    },
    {
      "cell_type": "code",
      "source": [
        "def del_stop_word(data):\n",
        "    lists = []\n",
        "    cnt = 0\n",
        "    for sent in data:\n",
        "        if not cnt%300:\n",
        "            clear_output(wait=True)\n",
        "            print(cnt*100/len(data))\n",
        "        sub_list = []\n",
        "        for word in sent:\n",
        "            if word not in stop_word:\n",
        "                sub_list.append(word)\n",
        "        lists.append(sub_list)\n",
        "        cnt += 1\n",
        "    return lists"
      ],
      "metadata": {
        "execution": {
          "iopub.status.busy": "2024-07-26T22:55:38.306665Z",
          "iopub.execute_input": "2024-07-26T22:55:38.307069Z",
          "iopub.status.idle": "2024-07-26T22:55:38.314198Z",
          "shell.execute_reply.started": "2024-07-26T22:55:38.307026Z",
          "shell.execute_reply": "2024-07-26T22:55:38.312688Z"
        },
        "trusted": true,
        "id": "QgerSe7DaQmz"
      },
      "execution_count": 46,
      "outputs": []
    },
    {
      "cell_type": "code",
      "source": [
        "train_data_05 = del_stop_word(train_data_04)\n",
        "val_data_05   = del_stop_word(val_data_04)"
      ],
      "metadata": {
        "execution": {
          "iopub.status.busy": "2024-07-26T22:55:39.6689Z",
          "iopub.execute_input": "2024-07-26T22:55:39.669666Z",
          "iopub.status.idle": "2024-07-26T22:55:43.370196Z",
          "shell.execute_reply.started": "2024-07-26T22:55:39.669625Z",
          "shell.execute_reply": "2024-07-26T22:55:43.368763Z"
        },
        "trusted": true,
        "id": "ufTMHef1aQmz",
        "outputId": "933081a1-045d-4d7c-ffb8-1c40690d17d5",
        "colab": {
          "base_uri": "https://localhost:8080/"
        }
      },
      "execution_count": 47,
      "outputs": [
        {
          "output_type": "stream",
          "name": "stdout",
          "text": [
            "72.46376811594203\n"
          ]
        }
      ]
    },
    {
      "cell_type": "markdown",
      "source": [
        "### I.02.f lemitizing :"
      ],
      "metadata": {
        "id": "ECtUnGKoaQmz"
      }
    },
    {
      "cell_type": "code",
      "source": [
        "def lemmatizeing(data):\n",
        "    lemmatizer = WordNetLemmatizer()\n",
        "    lists = []\n",
        "    cnt = 0\n",
        "    for sent in data:\n",
        "        if not cnt%600:\n",
        "            clear_output(wait=True)\n",
        "            print(cnt*100/len(data))\n",
        "        sub_list = []\n",
        "        for word in sent:\n",
        "            if word.isalpha():\n",
        "                tag = pos_tag(list(word))[0][1]\n",
        "                if tag.startswith('NN'):\n",
        "                    pos = 'n'\n",
        "                elif tag.startswith('VB'):\n",
        "                    pos = 'v'\n",
        "                else:\n",
        "                    pos = 'a'\n",
        "                sub_list.append(lemmatizer.lemmatize(word, pos))\n",
        "            else:\n",
        "                sub_list.append(word)\n",
        "        lists.append(sub_list)\n",
        "        cnt += 1\n",
        "    return lists"
      ],
      "metadata": {
        "execution": {
          "iopub.status.busy": "2024-07-26T23:27:11.333786Z",
          "iopub.execute_input": "2024-07-26T23:27:11.334232Z",
          "iopub.status.idle": "2024-07-26T23:27:11.342191Z",
          "shell.execute_reply.started": "2024-07-26T23:27:11.334195Z",
          "shell.execute_reply": "2024-07-26T23:27:11.341005Z"
        },
        "trusted": true,
        "id": "61nsor0kaQmz"
      },
      "execution_count": 50,
      "outputs": []
    },
    {
      "cell_type": "code",
      "source": [
        "train_data_06 = lemmatizeing(train_data_05)\n",
        "val_data_06   = lemmatizeing(val_data_05)"
      ],
      "metadata": {
        "trusted": true,
        "id": "UMy-Z2tHaQm0",
        "outputId": "4dfddc98-19eb-42ae-ed4b-8f68783c88a4",
        "colab": {
          "base_uri": "https://localhost:8080/"
        }
      },
      "execution_count": 51,
      "outputs": [
        {
          "output_type": "stream",
          "name": "stdout",
          "text": [
            "72.46376811594203\n"
          ]
        }
      ]
    },
    {
      "cell_type": "markdown",
      "source": [
        "### I.02.g Empty elemnts :"
      ],
      "metadata": {
        "id": "fA-E1sIbc17a"
      }
    },
    {
      "cell_type": "code",
      "source": [
        "def empty_sent_id(data):\n",
        "    id_ = []\n",
        "    lists = []\n",
        "    cnt = 0\n",
        "    for sent in data:\n",
        "        if not cnt%300:\n",
        "            clear_output(wait=True)\n",
        "            print(cnt*100/len(data))\n",
        "        if len(sent) == 0:\n",
        "            id_.append(cnt)\n",
        "        else:\n",
        "            lists.append(sent)\n",
        "        cnt += 1\n",
        "    return id_,lists"
      ],
      "metadata": {
        "id": "RFZhfcGcc-0l"
      },
      "execution_count": null,
      "outputs": []
    },
    {
      "cell_type": "code",
      "source": [
        "id_t,train_data_07 = del_stop_word(train_data_06)\n",
        "id_v,val_data_07   = del_stop_word(val_data_06)"
      ],
      "metadata": {
        "id": "_IzrQxAhc5Kh"
      },
      "execution_count": null,
      "outputs": []
    }
  ]
}